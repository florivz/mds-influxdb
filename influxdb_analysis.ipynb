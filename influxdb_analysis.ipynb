{
 "cells": [
  {
   "cell_type": "code",
   "execution_count": 106,
   "id": "e0079bdf",
   "metadata": {},
   "outputs": [],
   "source": [
    "import os, time\n",
    "from influxdb_client import InfluxDBClient, QueryApi\n",
    "from influxdb_client.client.write_api import SYNCHRONOUS\n",
    "from influxdb_client.client.exceptions import InfluxDBError\n",
    "import time"
   ]
  },
  {
   "cell_type": "code",
   "execution_count": 107,
   "id": "9026a190",
   "metadata": {},
   "outputs": [],
   "source": [
    "token = os.environ.get(\"INFLUXDB_TOKEN\")\n",
    "org = \"th-koeln\"\n",
    "url = \"http://localhost:8086\"\n",
    "bucket = \"iot_telemetry_data\""
   ]
  },
  {
   "cell_type": "markdown",
   "id": "a11bb061",
   "metadata": {},
   "source": [
    "# Queries"
   ]
  },
  {
   "cell_type": "code",
   "execution_count": 108,
   "id": "350dc48c",
   "metadata": {},
   "outputs": [],
   "source": [
    "times_stamps_query = '''\n",
    "from(bucket: \"iot_telemetry_data\")\n",
    "  |> range(start: 0)\n",
    "  |> filter(fn: (r) => r._measurement == \"iot_telemetry\")\n",
    "  |> keep(columns: [\"_time\"])\n",
    "'''"
   ]
  },
  {
   "cell_type": "code",
   "execution_count": 109,
   "id": "9ff16388",
   "metadata": {},
   "outputs": [],
   "source": [
    "average_humidity_per_device_query = \"\"\"\n",
    "from(bucket: \"iot_telemetry_data\")\n",
    "  |> range(start: 0)\n",
    "  |> filter(fn: (r) =>\n",
    "      r._measurement == \"iot_telemetry\" and\n",
    "      r._field == \"humidity\"\n",
    "  )\n",
    "  |> pivot(\n",
    "      rowKey:   [\"device\"],\n",
    "      columnKey: [\"_field\"],\n",
    "      valueColumn: \"_value\"\n",
    "  )\n",
    "  |> mean(column: \"humidity\")\n",
    "  |> sort(columns: [\"device\"])\n",
    "\"\"\""
   ]
  },
  {
   "cell_type": "code",
   "execution_count": 110,
   "id": "7cac597c",
   "metadata": {},
   "outputs": [],
   "source": [
    "highest_temp_query = \"\"\"\n",
    "from(bucket: \"iot_telemetry_data\")\n",
    "  |> range(start: 0)\n",
    "  |> filter(fn: (r) =>\n",
    "      r._measurement == \"iot_telemetry\" and\n",
    "      r._field == \"temp\"\n",
    "  )\n",
    "  |> group()\n",
    "  |> max(column: \"_value\")\n",
    "  |> pivot(rowKey:[\"_time\"], columnKey: [\"_field\"], valueColumn: \"_value\")\n",
    "\"\"\""
   ]
  },
  {
   "cell_type": "code",
   "execution_count": 111,
   "id": "a338c0a5",
   "metadata": {},
   "outputs": [],
   "source": [
    "worst_air_quality_per_device_query = \"\"\"\n",
    "from(bucket: \"iot_telemetry_data\")\n",
    "  |> range(start: 0)\n",
    "  |> filter(fn: (r) =>\n",
    "      r._measurement == \"iot_telemetry\" and\n",
    "      (r._field == \"co\" or r._field == \"lpg\" or r._field == \"smoke\")\n",
    "  )\n",
    "  |> pivot(\n",
    "      rowKey:   [\"device\", \"_time\"],\n",
    "      columnKey:[\"_field\"],\n",
    "      valueColumn: \"_value\"\n",
    "  )\n",
    "  |> map(fn: (r) => ({\n",
    "      device: r.device,\n",
    "      air_quality_score: r.co + r.lpg + r.smoke\n",
    "  }))\n",
    "  |> group(columns:[\"device\"])\n",
    "  |> sum(column: \"air_quality_score\")\n",
    "  |> sort(columns: [\"air_quality_score\"], desc: true)\n",
    "\"\"\""
   ]
  },
  {
   "cell_type": "code",
   "execution_count": 112,
   "id": "8eba02c6",
   "metadata": {},
   "outputs": [],
   "source": [
    "avg_temp_humidity_ratio_query = \"\"\"\n",
    "from(bucket: \"iot_telemetry_data\")\n",
    "    |> range(start: 2020-07-14T00:01:00Z, stop: 2020-07-19T03:01:00Z)\n",
    "    |> filter(fn: (r) => r._measurement == \"iot_telemetry\" and (r._field == \"temp\" or r._field == \"humidity\"))\n",
    "    |> pivot(rowKey:[\"_time\", \"device\"], columnKey: [\"_field\"], valueColumn: \"_value\")\n",
    "    |> filter(fn: (r) => exists r.temp and exists r.humidity and r.humidity != 0.0)\n",
    "    |> map(fn: (r) => ({ r with temp_humidity_ratio: r.temp / r.humidity }))\n",
    "    |> mean(column: \"temp_humidity_ratio\")\n",
    "    |> yield(name: \"avg_temp_humidity_ratio\")\n",
    "\"\"\""
   ]
  },
  {
   "cell_type": "code",
   "execution_count": 113,
   "id": "b00d564e",
   "metadata": {},
   "outputs": [
    {
     "name": "stderr",
     "output_type": "stream",
     "text": [
      "c:\\Users\\flori\\Documents\\mds-influxdb\\.venv\\Lib\\site-packages\\influxdb_client\\client\\warnings.py:31: MissingPivotFunction: The query doesn't contains the pivot() function.\n",
      "\n",
      "The result will not be shaped to optimal processing by pandas.DataFrame. Use the pivot() function by:\n",
      "\n",
      "    \n",
      "from(bucket: \"iot_telemetry_data\")\n",
      "  |> range(start: 0)\n",
      "  |> filter(fn: (r) => r._measurement == \"iot_telemetry\")\n",
      "  |> keep(columns: [\"_time\"])\n",
      " |> pivot(rowKey:[\"_time\"], columnKey: [\"_field\"], valueColumn: \"_value\")\n",
      "\n",
      "You can disable this warning by:\n",
      "    import warnings\n",
      "    from influxdb_client.client.warnings import MissingPivotFunction\n",
      "\n",
      "    warnings.simplefilter(\"ignore\", MissingPivotFunction)\n",
      "\n",
      "For more info see:\n",
      "    - https://docs.influxdata.com/resources/videos/pivots-in-flux/\n",
      "    - https://docs.influxdata.com/flux/latest/stdlib/universe/pivot/\n",
      "    - https://docs.influxdata.com/flux/latest/stdlib/influxdata/influxdb/schema/fieldsascols/\n",
      "\n",
      "  warnings.warn(message, MissingPivotFunction)\n"
     ]
    },
    {
     "name": "stdout",
     "output_type": "stream",
     "text": [
      "result                             _result\n",
      "table                                    0\n",
      "_time     2020-07-12 00:01:34.385974+00:00\n",
      "dtype: object\n",
      "result                             _result\n",
      "table                                    0\n",
      "_time     2020-07-20 00:03:37.264312+00:00\n",
      "dtype: object\n"
     ]
    }
   ],
   "source": [
    "import pandas as pd\n",
    "\n",
    "try:\n",
    "    client = InfluxDBClient(url=url, token=token, org=org)\n",
    "    query_api = QueryApi(influxdb_client=client)\n",
    "    result = pd.DataFrame(query_api.query_data_frame(times_stamps_query))\n",
    "    print(result.min())\n",
    "    print(result.max())\n",
    "except InfluxDBError as e:\n",
    "    print('Error: ', e)"
   ]
  },
  {
   "cell_type": "markdown",
   "id": "e336dfea",
   "metadata": {},
   "source": [
    "# Performance Analysis"
   ]
  },
  {
   "cell_type": "code",
   "execution_count": 114,
   "id": "cc7171b5",
   "metadata": {},
   "outputs": [],
   "source": [
    "query_times = {}"
   ]
  },
  {
   "cell_type": "code",
   "execution_count": 115,
   "id": "7169ba2e",
   "metadata": {},
   "outputs": [
    {
     "name": "stdout",
     "output_type": "stream",
     "text": [
      "Query took 0.18420648574829102 seconds.\n"
     ]
    }
   ],
   "source": [
    "try:\n",
    "    client = InfluxDBClient(url=url, token=token, org=org)\n",
    "    query_api = QueryApi(influxdb_client=client)\n",
    "    start_time = time.time()\n",
    "    result = query_api.query_data_frame(average_humidity_per_device_query)\n",
    "    end_time = time.time()\n",
    "    print(f\"Query took {end_time - start_time} seconds.\")\n",
    "    query_times['Average Humidity'] = (end_time - start_time)\n",
    "except InfluxDBError as e:\n",
    "    print('Error: ', e)"
   ]
  },
  {
   "cell_type": "code",
   "execution_count": 116,
   "id": "aa2d4f76",
   "metadata": {},
   "outputs": [
    {
     "name": "stdout",
     "output_type": "stream",
     "text": [
      "Query took 0.03932380676269531 seconds.\n"
     ]
    }
   ],
   "source": [
    "try:\n",
    "    client = InfluxDBClient(url=url, token=token, org=org)\n",
    "    query_api = QueryApi(influxdb_client=client)\n",
    "    start_time = time.time()\n",
    "    result = query_api.query_data_frame(highest_temp_query)\n",
    "    end_time = time.time()\n",
    "    print(f\"Query took {end_time - start_time} seconds.\")\n",
    "    query_times['Highest Temp'] = (end_time - start_time)\n",
    "except InfluxDBError as e:\n",
    "    print('Error: ', e)"
   ]
  },
  {
   "cell_type": "code",
   "execution_count": 117,
   "id": "40dfe055",
   "metadata": {},
   "outputs": [
    {
     "name": "stdout",
     "output_type": "stream",
     "text": [
      "Query took 1.1522161960601807 seconds.\n"
     ]
    }
   ],
   "source": [
    "try:\n",
    "    client = InfluxDBClient(url=url, token=token, org=org)\n",
    "    query_api = QueryApi(influxdb_client=client)\n",
    "    start_time = time.time()\n",
    "    result = query_api.query_data_frame(worst_air_quality_per_device_query)\n",
    "    end_time = time.time()\n",
    "    print(f\"Query took {end_time - start_time} seconds.\")\n",
    "    query_times['Worst Air'] = (end_time - start_time)\n",
    "except InfluxDBError as e:\n",
    "    print('Error: ', e)"
   ]
  },
  {
   "cell_type": "code",
   "execution_count": 118,
   "id": "6bbf4c63",
   "metadata": {},
   "outputs": [
    {
     "name": "stdout",
     "output_type": "stream",
     "text": [
      "Query took 1.5333383083343506 seconds.\n"
     ]
    }
   ],
   "source": [
    "try:\n",
    "    client = InfluxDBClient(url=url, token=token, org=org)\n",
    "    query_api = QueryApi(influxdb_client=client)\n",
    "    start_time = time.time()\n",
    "    result = query_api.query_data_frame(avg_temp_humidity_ratio_query)\n",
    "    end_time = time.time()\n",
    "    print(f\"Query took {end_time - start_time} seconds.\")\n",
    "    query_times['Avg Temp Humidity Ratio'] = (end_time - start_time)\n",
    "except InfluxDBError as e:\n",
    "    print('Error: ', e)"
   ]
  },
  {
   "cell_type": "markdown",
   "id": "dceb77ed",
   "metadata": {},
   "source": [
    "# Summary"
   ]
  },
  {
   "cell_type": "code",
   "execution_count": 119,
   "id": "5a9f227c",
   "metadata": {},
   "outputs": [
    {
     "name": "stdout",
     "output_type": "stream",
     "text": [
      "{'Average Humidity': 0.18420648574829102, 'Highest Temp': 0.03932380676269531, 'Worst Air': 1.1522161960601807, 'Avg Temp Humidity Ratio': 1.5333383083343506}\n"
     ]
    }
   ],
   "source": [
    "print(query_times)"
   ]
  },
  {
   "cell_type": "code",
   "execution_count": 120,
   "id": "54736f19",
   "metadata": {},
   "outputs": [],
   "source": [
    "performance = \"InfluxDB query times: \" + str(query_times)"
   ]
  },
  {
   "cell_type": "code",
   "execution_count": 121,
   "id": "7705ccaf",
   "metadata": {},
   "outputs": [
    {
     "name": "stdout",
     "output_type": "stream",
     "text": [
      "InfluxDB query times: {'Average Humidity': 0.18420648574829102, 'Highest Temp': 0.03932380676269531, 'Worst Air': 1.1522161960601807, 'Avg Temp Humidity Ratio': 1.5333383083343506}\n"
     ]
    }
   ],
   "source": [
    "filename = \"performance.txt\"\n",
    "\n",
    "\n",
    "# 'a' öffnet die Datei im Append-Modus (erstellt sie, falls sie nicht existiert)\n",
    "with open(filename, \"a\", encoding=\"utf-8\") as f:\n",
    "    f.write(performance + \"\\n\")\n",
    "\n",
    "print(performance)\n"
   ]
  }
 ],
 "metadata": {
  "kernelspec": {
   "display_name": ".venv",
   "language": "python",
   "name": "python3"
  },
  "language_info": {
   "codemirror_mode": {
    "name": "ipython",
    "version": 3
   },
   "file_extension": ".py",
   "mimetype": "text/x-python",
   "name": "python",
   "nbconvert_exporter": "python",
   "pygments_lexer": "ipython3",
   "version": "3.12.6"
  }
 },
 "nbformat": 4,
 "nbformat_minor": 5
}
