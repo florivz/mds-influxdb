{
 "cells": [
  {
   "cell_type": "code",
   "execution_count": 176,
   "id": "e0079bdf",
   "metadata": {},
   "outputs": [],
   "source": [
    "import os, time\n",
    "from influxdb_client import InfluxDBClient, QueryApi\n",
    "from influxdb_client.client.write_api import SYNCHRONOUS\n",
    "from influxdb_client.client.exceptions import InfluxDBError\n",
    "import time"
   ]
  },
  {
   "cell_type": "code",
   "execution_count": 177,
   "id": "9026a190",
   "metadata": {},
   "outputs": [],
   "source": [
    "token = os.environ.get(\"INFLUXDB_TOKEN\")\n",
    "org = \"th-koeln\"\n",
    "url = \"http://localhost:8086\"\n",
    "bucket = \"iot_telemetry_data\""
   ]
  },
  {
   "cell_type": "markdown",
   "id": "a11bb061",
   "metadata": {},
   "source": [
    "# Queries"
   ]
  },
  {
   "cell_type": "code",
   "execution_count": 178,
   "id": "350dc48c",
   "metadata": {},
   "outputs": [],
   "source": [
    "# Query to get all timestamps from the IoT telemetry data to determine data coverage\n",
    "times_stamps_query = '''\n",
    "from(bucket: \"iot_telemetry_data\")\n",
    "  |> range(start: 0)\n",
    "  |> filter(fn: (r) => r._measurement == \"iot_telemetry\")\n",
    "  |> keep(columns: [\"_time\"])\n",
    "'''"
   ]
  },
  {
   "cell_type": "code",
   "execution_count": 179,
   "id": "9ff16388",
   "metadata": {},
   "outputs": [],
   "source": [
    "# Calculate average humidity per device across all time periods\n",
    "average_humidity_per_device_query = \"\"\"\n",
    "from(bucket: \"iot_telemetry_data\")\n",
    "  |> range(start: 0)\n",
    "  |> filter(fn: (r) =>\n",
    "      r._measurement == \"iot_telemetry\" and\n",
    "      r._field == \"humidity\"\n",
    "  )\n",
    "  |> pivot(\n",
    "      rowKey:   [\"device\"],\n",
    "      columnKey: [\"_field\"],\n",
    "      valueColumn: \"_value\"\n",
    "  )\n",
    "  |> mean(column: \"humidity\")\n",
    "  |> sort(columns: [\"device\"])\n",
    "\"\"\""
   ]
  },
  {
   "cell_type": "code",
   "execution_count": 180,
   "id": "7cac597c",
   "metadata": {},
   "outputs": [],
   "source": [
    "# Find the highest temperature recorded across all devices and time periods\n",
    "highest_temp_query = \"\"\"\n",
    "from(bucket: \"iot_telemetry_data\")\n",
    "  |> range(start: 0)\n",
    "  |> filter(fn: (r) =>\n",
    "      r._measurement == \"iot_telemetry\" and\n",
    "      r._field == \"temp\"\n",
    "  )\n",
    "  |> group()\n",
    "  |> max(column: \"_value\")\n",
    "  |> pivot(rowKey:[\"_time\"], columnKey: [\"_field\"], valueColumn: \"_value\")\n",
    "\"\"\""
   ]
  },
  {
   "cell_type": "code",
   "execution_count": 181,
   "id": "a338c0a5",
   "metadata": {},
   "outputs": [],
   "source": [
    "# Calculate total air quality score (CO + LPG + Smoke) per device and rank by worst air quality\n",
    "worst_air_quality_per_device_query = \"\"\"\n",
    "from(bucket: \"iot_telemetry_data\")\n",
    "  |> range(start: 0)\n",
    "  |> filter(fn: (r) =>\n",
    "      r._measurement == \"iot_telemetry\" and\n",
    "      (r._field == \"co\" or r._field == \"lpg\" or r._field == \"smoke\")\n",
    "  )\n",
    "  |> pivot(\n",
    "      rowKey:   [\"device\", \"_time\"],\n",
    "      columnKey:[\"_field\"],\n",
    "      valueColumn: \"_value\"\n",
    "  )\n",
    "  |> map(fn: (r) => ({\n",
    "      device: r.device,\n",
    "      air_quality_score: r.co + r.lpg + r.smoke\n",
    "  }))\n",
    "  |> group(columns:[\"device\"])\n",
    "  |> sum(column: \"air_quality_score\")\n",
    "  |> sort(columns: [\"air_quality_score\"], desc: true)\n",
    "\"\"\""
   ]
  },
  {
   "cell_type": "code",
   "execution_count": 182,
   "id": "8eba02c6",
   "metadata": {},
   "outputs": [],
   "source": [
    "# Calculate average temperature to humidity ratio across all devices within a specific time window\n",
    "avg_temp_humidity_ratio_query = \"\"\"\n",
    "from(bucket: \"iot_telemetry_data\")\n",
    "    |> range(start: 2020-07-14T00:01:00Z, stop: 2020-07-19T03:01:00Z)\n",
    "    |> filter(fn: (r) => r._measurement == \"iot_telemetry\" and (r._field == \"temp\" or r._field == \"humidity\"))\n",
    "    |> pivot(rowKey:[\"_time\", \"device\"], columnKey: [\"_field\"], valueColumn: \"_value\")\n",
    "    |> filter(fn: (r) => exists r.temp and exists r.humidity and r.humidity != 0.0)\n",
    "    |> map(fn: (r) => ({ r with temp_humidity_ratio: r.temp / r.humidity }))\n",
    "    |> mean(column: \"temp_humidity_ratio\")\n",
    "    |> yield(name: \"avg_temp_humidity_ratio\")\n",
    "\"\"\""
   ]
  },
  {
   "cell_type": "code",
   "execution_count": 183,
   "id": "729c2536",
   "metadata": {},
   "outputs": [],
   "source": [
    "# Calculate minute-by-minute temperature to humidity ratio per device for time-series analysis\n",
    "avg_temp_humidity_ratio_per_min_influx_query = \"\"\"from(bucket: \"iot_telemetry_data\")\n",
    "    |> range(start: 2020-07-14T00:01:00Z, stop: 2020-07-19T03:01:00Z)\n",
    "    |> filter(fn: (r) => r._measurement == \"iot_telemetry\" and (r._field == \"temp\" or r._field == \"humidity\"))\n",
    "    |> pivot(rowKey:[\"_time\", \"device\"], columnKey: [\"_field\"], valueColumn: \"_value\")\n",
    "    |> filter(fn: (r) => exists r.temp and exists r.humidity and r.humidity != 0.0)\n",
    "    |> map(fn: (r) => ({ _time: r._time, device: r.device, _value: r.temp / r.humidity }))\n",
    "    |> group(columns:[\"device\"])\n",
    "    |> aggregateWindow(every: 1m, fn: mean, createEmpty: false)\n",
    "    |> yield(name: \"avg_temp_humidity_ratio_per_min\")\n",
    "\"\"\"\n"
   ]
  },
  {
   "cell_type": "markdown",
   "id": "5f15e97a",
   "metadata": {},
   "source": [
    "## Helper"
   ]
  },
  {
   "cell_type": "markdown",
   "id": "e336dfea",
   "metadata": {},
   "source": [
    "# Performance Analysis"
   ]
  },
  {
   "cell_type": "code",
   "execution_count": 184,
   "id": "cc7171b5",
   "metadata": {},
   "outputs": [],
   "source": [
    "query_times = {}"
   ]
  },
  {
   "cell_type": "code",
   "execution_count": 185,
   "id": "7169ba2e",
   "metadata": {},
   "outputs": [
    {
     "name": "stdout",
     "output_type": "stream",
     "text": [
      "Query took 0.2718780040740967 seconds.\n"
     ]
    }
   ],
   "source": [
    "try:\n",
    "    client = InfluxDBClient(url=url, token=token, org=org)\n",
    "    query_api = QueryApi(influxdb_client=client)\n",
    "    start_time = time.time()\n",
    "    result = query_api.query_data_frame(average_humidity_per_device_query)\n",
    "    end_time = time.time()\n",
    "    print(f\"Query took {end_time - start_time} seconds.\")\n",
    "    query_times['Average Humidity'] = (end_time - start_time)\n",
    "except InfluxDBError as e:\n",
    "    print('Error: ', e)"
   ]
  },
  {
   "cell_type": "code",
   "execution_count": 186,
   "id": "aa2d4f76",
   "metadata": {},
   "outputs": [
    {
     "name": "stdout",
     "output_type": "stream",
     "text": [
      "Query took 0.028052330017089844 seconds.\n"
     ]
    }
   ],
   "source": [
    "try:\n",
    "    client = InfluxDBClient(url=url, token=token, org=org)\n",
    "    query_api = QueryApi(influxdb_client=client)\n",
    "    start_time = time.time()\n",
    "    result = query_api.query_data_frame(highest_temp_query)\n",
    "    end_time = time.time()\n",
    "    print(f\"Query took {end_time - start_time} seconds.\")\n",
    "    query_times['Highest Temp'] = (end_time - start_time)\n",
    "except InfluxDBError as e:\n",
    "    print('Error: ', e)"
   ]
  },
  {
   "cell_type": "code",
   "execution_count": 187,
   "id": "40dfe055",
   "metadata": {},
   "outputs": [
    {
     "name": "stdout",
     "output_type": "stream",
     "text": [
      "Query took 1.6559348106384277 seconds.\n"
     ]
    }
   ],
   "source": [
    "try:\n",
    "    client = InfluxDBClient(url=url, token=token, org=org)\n",
    "    query_api = QueryApi(influxdb_client=client)\n",
    "    start_time = time.time()\n",
    "    result = query_api.query_data_frame(worst_air_quality_per_device_query)\n",
    "    end_time = time.time()\n",
    "    print(f\"Query took {end_time - start_time} seconds.\")\n",
    "    query_times['Worst Air'] = (end_time - start_time)\n",
    "except InfluxDBError as e:\n",
    "    print('Error: ', e)"
   ]
  },
  {
   "cell_type": "code",
   "execution_count": 188,
   "id": "6bbf4c63",
   "metadata": {},
   "outputs": [
    {
     "name": "stdout",
     "output_type": "stream",
     "text": [
      "Query took 2.4287164211273193 seconds.\n"
     ]
    }
   ],
   "source": [
    "try:\n",
    "    client = InfluxDBClient(url=url, token=token, org=org)\n",
    "    query_api = QueryApi(influxdb_client=client)\n",
    "    start_time = time.time()\n",
    "    result = query_api.query_data_frame(avg_temp_humidity_ratio_query)\n",
    "    end_time = time.time()\n",
    "    print(f\"Query took {end_time - start_time} seconds.\")\n",
    "    query_times['Avg Temp Humidity Ratio'] = (end_time - start_time)\n",
    "except InfluxDBError as e:\n",
    "    print('Error: ', e)"
   ]
  },
  {
   "cell_type": "code",
   "execution_count": 189,
   "id": "31aa07fd",
   "metadata": {},
   "outputs": [
    {
     "name": "stdout",
     "output_type": "stream",
     "text": [
      "Query took 3.142120599746704 seconds.\n"
     ]
    }
   ],
   "source": [
    "try:\n",
    "    client = InfluxDBClient(url=url, token=token, org=org)\n",
    "    query_api = QueryApi(influxdb_client=client)\n",
    "    start_time = time.time()\n",
    "    result = query_api.query_data_frame(avg_temp_humidity_ratio_per_min_influx_query)\n",
    "    end_time = time.time()\n",
    "    print(f\"Query took {end_time - start_time} seconds.\")\n",
    "    query_times['Avg Temp Humidity Ratio per Minite'] = (end_time - start_time)\n",
    "except InfluxDBError as e:\n",
    "    print('Error: ', e)"
   ]
  },
  {
   "cell_type": "markdown",
   "id": "dceb77ed",
   "metadata": {},
   "source": [
    "# Summary"
   ]
  },
  {
   "cell_type": "code",
   "execution_count": 190,
   "id": "5a9f227c",
   "metadata": {},
   "outputs": [
    {
     "name": "stdout",
     "output_type": "stream",
     "text": [
      "{'Average Humidity': 0.2718780040740967, 'Highest Temp': 0.028052330017089844, 'Worst Air': 1.6559348106384277, 'Avg Temp Humidity Ratio': 2.4287164211273193, 'Avg Temp Humidity Ratio per Minite': 3.142120599746704}\n"
     ]
    }
   ],
   "source": [
    "print(query_times)"
   ]
  },
  {
   "cell_type": "code",
   "execution_count": 191,
   "id": "54736f19",
   "metadata": {},
   "outputs": [],
   "source": [
    "performance = \"InfluxDB query times: \" + str(query_times)"
   ]
  },
  {
   "cell_type": "code",
   "execution_count": 192,
   "id": "7705ccaf",
   "metadata": {},
   "outputs": [
    {
     "name": "stdout",
     "output_type": "stream",
     "text": [
      "InfluxDB query times: {'Average Humidity': 0.2718780040740967, 'Highest Temp': 0.028052330017089844, 'Worst Air': 1.6559348106384277, 'Avg Temp Humidity Ratio': 2.4287164211273193, 'Avg Temp Humidity Ratio per Minite': 3.142120599746704}\n"
     ]
    }
   ],
   "source": [
    "filename = \"performance.txt\"\n",
    "\n",
    "\n",
    "# 'a' öffnet die Datei im Append-Modus (erstellt sie, falls sie nicht existiert)\n",
    "with open(filename, \"a\", encoding=\"utf-8\") as f:\n",
    "    f.write(performance + \"\\n\")\n",
    "\n",
    "print(performance)\n"
   ]
  }
 ],
 "metadata": {
  "kernelspec": {
   "display_name": ".venv",
   "language": "python",
   "name": "python3"
  },
  "language_info": {
   "codemirror_mode": {
    "name": "ipython",
    "version": 3
   },
   "file_extension": ".py",
   "mimetype": "text/x-python",
   "name": "python",
   "nbconvert_exporter": "python",
   "pygments_lexer": "ipython3",
   "version": "3.12.6"
  }
 },
 "nbformat": 4,
 "nbformat_minor": 5
}
