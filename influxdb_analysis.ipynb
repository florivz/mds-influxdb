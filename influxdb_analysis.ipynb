{
 "cells": [
  {
   "cell_type": "code",
   "execution_count": 1,
   "id": "e0079bdf",
   "metadata": {},
   "outputs": [],
   "source": [
    "import os, time\n",
    "from influxdb_client import InfluxDBClient, QueryApi\n",
    "from influxdb_client.client.write_api import SYNCHRONOUS\n",
    "from influxdb_client.client.exceptions import InfluxDBError\n",
    "import time"
   ]
  },
  {
   "cell_type": "code",
   "execution_count": 2,
   "id": "9026a190",
   "metadata": {},
   "outputs": [],
   "source": [
    "token = os.environ.get(\"INFLUXDB_TOKEN\")\n",
    "org = \"th-koeln\"\n",
    "url = \"http://localhost:8086\"\n",
    "bucket = \"iot_telemetry_data\""
   ]
  },
  {
   "cell_type": "markdown",
   "id": "a11bb061",
   "metadata": {},
   "source": [
    "# Queries"
   ]
  },
  {
   "cell_type": "code",
   "execution_count": 4,
   "id": "9ff16388",
   "metadata": {},
   "outputs": [],
   "source": [
    "query_average_humidity_per_device = \"\"\"\n",
    "from(bucket: \"iot_telemetry_data\")\n",
    "  |> range(start: 0)\n",
    "  |> filter(fn: (r) =>\n",
    "      r._measurement == \"iot_telemetry\" and\n",
    "      r._field == \"humidity\"\n",
    "  )\n",
    "  |> pivot(\n",
    "      rowKey:   [\"device\"],        // jetzt pro Gerät eine Zeile\n",
    "      columnKey: [\"_field\"],       // jede Feldart (hier nur \"humidity\") in eine eigene Spalte\n",
    "      valueColumn: \"_value\"\n",
    "  )\n",
    "  |> mean(column: \"humidity\")     // Mittelwert über alle timestamps pro Gerät\n",
    "  |> sort(columns: [\"device\"])\n",
    "\"\"\""
   ]
  },
  {
   "cell_type": "code",
   "execution_count": 5,
   "id": "7cac597c",
   "metadata": {},
   "outputs": [],
   "source": [
    "query_highest_temp = \"\"\"\n",
    "from(bucket: \"iot_telemetry_data\")\n",
    "  |> range(start: 0)\n",
    "  |> filter(fn: (r) =>\n",
    "      r._measurement == \"iot_telemetry\" and\n",
    "      r._field == \"temp\"\n",
    "  )\n",
    "  |> group()                      // global zusammenfassen\n",
    "  |> max(column: \"_value\")        // max über die Temp-Werte\n",
    " |> pivot(rowKey:[\"_time\"], columnKey: [\"_field\"], valueColumn: \"_value\")\n",
    "\"\"\""
   ]
  },
  {
   "cell_type": "code",
   "execution_count": 6,
   "id": "a338c0a5",
   "metadata": {},
   "outputs": [],
   "source": [
    "query_worst_air = \"\"\"\n",
    "from(bucket: \"iot_telemetry_data\")\n",
    "  |> range(start: 0)\n",
    "  |> filter(fn: (r) =>\n",
    "      r._measurement == \"iot_telemetry\" and\n",
    "      (r._field == \"co\" or r._field == \"lpg\" or r._field == \"smoke\")\n",
    "  )\n",
    "  // Jede Zeile zu co, lpg, smoke pivoten\n",
    "  |> pivot(\n",
    "      rowKey:   [\"device\", \"_time\"],\n",
    "      columnKey:[\"_field\"],\n",
    "      valueColumn: \"_value\"\n",
    "  )\n",
    "  // score pro Messpunkt berechnen\n",
    "  |> map(fn: (r) => ({\n",
    "      device: r.device,\n",
    "      air_quality_score: r.co + r.lpg + r.smoke\n",
    "  }))\n",
    "  // Nun global pro Gerät aufsummieren\n",
    "  |> group(columns:[\"device\"])\n",
    "  |> sum(column: \"air_quality_score\")\n",
    "  // Absteigend sortieren\n",
    "  |> sort(columns: [\"air_quality_score\"], desc: true)\n",
    "\"\"\""
   ]
  },
  {
   "cell_type": "code",
   "execution_count": 7,
   "id": "3c4aaacc",
   "metadata": {},
   "outputs": [],
   "source": [
    "hourly_temp_hum_query = \"\"\"\n",
    "data = from(bucket: \"iot_telemetry_data\")\n",
    "  |> range(start: 2002-04-07T00:00:00Z, stop: now()) // Zeitbereich basierend auf deinem Screenshot\n",
    "  |> filter(fn: (r) => r[\"_measurement\"] == \"iot_telemetry\")\n",
    "  |> filter(fn: (r) =>\n",
    "    r[\"device\"] == \"00:0f:00:70:91:0a\" or\n",
    "    r[\"device\"] == \"1c:bf:ce:15:ec:4d\" or\n",
    "    r[\"device\"] == \"eb:b8:27:bf:9d:51\"\n",
    "  )\n",
    "  |> filter(fn: (r) => r[\"_field\"] == \"temp\" or r[\"_field\"] == \"humidity\")\n",
    "\n",
    "\n",
    "mean_temp = data\n",
    "  |> filter(fn: (r) => r[\"_field\"] == \"temp\")\n",
    "  |> aggregateWindow(every: 1h, fn: mean, createEmpty: false)\n",
    "  |> drop(columns: [\"_measurement\", \"_field\"]) // Nicht mehr benötigte Spalten entfernen\n",
    "\n",
    "\n",
    "max_humidity = data\n",
    "  |> filter(fn: (r) => r[\"_field\"] == \"humidity\")\n",
    "  |> aggregateWindow(every: 1h, fn: max, createEmpty: false)\n",
    "  |> drop(columns: [\"_measurement\", \"_field\"]) // Nicht mehr benötigte Spalten entfernen\n",
    "\n",
    "\n",
    "// Ergebnisse zusammenführen und pivotieren\n",
    "join(tables: {temp: mean_temp, humidity: max_humidity}, on: [\"_time\", \"_stop\", \"_start\", \"device\"])\n",
    "  |> rename(columns: { _value_temp: \"mean_temp\", _value_humidity: \"max_humidity\"}) // Spalten umbenennen für Klarheit\n",
    "  |> sort(columns: [\"_time\", \"device\"]) // Optional: Sortieren für bessere Lesbarkeit\n",
    "\"\"\""
   ]
  },
  {
   "cell_type": "code",
   "execution_count": 8,
   "id": "97a1e3aa",
   "metadata": {},
   "outputs": [],
   "source": [
    "temperature_rate_of_change_per_minute_by_device = \"\"\"\n",
    "    from(bucket: \"iot_telemetry_data\")\n",
    "  |> range(start: 2020-07-12T00:00:00Z, stop: 2020-07-19T23:59:59Z) // Dein spezifischer Zeitbereich\n",
    "  |> filter(fn: (r) => r[\"_measurement\"] == \"iot_telemetry\")\n",
    "  |> filter(fn: (r) => r[\"_field\"] == \"temp\")\n",
    "  |> group(columns: [\"device\"]) // Berechnet die Ableitung pro Gerät separat\n",
    "  |> derivative(unit: 1m, nonNegative: false) // Berechnet die Veränderung pro Minute\n",
    "  |> yield(name: \"temperature_rate_of_change_per_minute\") // Benennt das Ergebnis (optional, kann der gleiche Name wie die Variable sein)\n",
    " |> pivot(rowKey:[\"_time\"], columnKey: [\"_field\"], valueColumn: \"_value\")\n",
    " \"\"\""
   ]
  },
  {
   "cell_type": "code",
   "execution_count": 9,
   "id": "bc4978db",
   "metadata": {},
   "outputs": [],
   "source": [
    "median_hourly_temp_by_device_query = \"\"\"\n",
    "from(bucket: \"iot_telemetry_data\")\n",
    "  |> range(start: 2020-07-12T00:00:00Z, stop: 2020-07-19T23:59:59Z) // Dein spezifischer Zeitbereich\n",
    "  |> filter(fn: (r) => r[\"_measurement\"] == \"iot_telemetry\")\n",
    "  |> filter(fn: (r) => r[\"_field\"] == \"temp\")\n",
    "  |> filter(fn: (r) =>\n",
    "    r[\"device\"] == \"00:0f:00:70:91:0a\" or\n",
    "    r[\"device\"] == \"1c:bf:ce:15:ec:4d\" or\n",
    "    r[\"device\"] == \"eb:b8:27:bf:9d:51\"\n",
    "  ) // Filter für die spezifischen Geräte\n",
    "  |> aggregateWindow(every: 1h, fn: median, createEmpty: false) // Berechnet den Median pro Stunde\n",
    "  |> yield(name: \"median_hourly_temperature\") // Benennt das Ergebnis\n",
    " |> pivot(rowKey:[\"_time\"], columnKey: [\"_field\"], valueColumn: \"_value\")\n",
    "\"\"\""
   ]
  },
  {
   "cell_type": "markdown",
   "id": "1f0f3fcf",
   "metadata": {},
   "source": [
    "# Executions"
   ]
  },
  {
   "cell_type": "code",
   "execution_count": 10,
   "id": "cc7171b5",
   "metadata": {},
   "outputs": [],
   "source": [
    "query_times = {}"
   ]
  },
  {
   "cell_type": "code",
   "execution_count": 11,
   "id": "7169ba2e",
   "metadata": {},
   "outputs": [
    {
     "name": "stdout",
     "output_type": "stream",
     "text": [
      "Query took 2.8946895599365234 seconds.\n"
     ]
    }
   ],
   "source": [
    "try:\n",
    "    client = InfluxDBClient(url=url, token=token, org=org)\n",
    "    query_api = QueryApi(influxdb_client=client)\n",
    "    start_time = time.time()\n",
    "    result = query_api.query_data_frame(query_average_humidity_per_device)\n",
    "    end_time = time.time()\n",
    "    print(f\"Query took {end_time - start_time} seconds.\")\n",
    "    query_times['Average Humidity'] = (end_time - start_time)\n",
    "except InfluxDBError as e:\n",
    "    print('Error: ', e)"
   ]
  },
  {
   "cell_type": "code",
   "execution_count": 14,
   "id": "aa2d4f76",
   "metadata": {},
   "outputs": [
    {
     "name": "stdout",
     "output_type": "stream",
     "text": [
      "Query took 0.051518917083740234 seconds.\n"
     ]
    }
   ],
   "source": [
    "try:\n",
    "    client = InfluxDBClient(url=url, token=token, org=org)\n",
    "    query_api = QueryApi(influxdb_client=client)\n",
    "    start_time = time.time()\n",
    "    result = query_api.query_data_frame(query_highest_temp)\n",
    "    end_time = time.time()\n",
    "    print(f\"Query took {end_time - start_time} seconds.\")\n",
    "    query_times['Highest Temp'] = (end_time - start_time)\n",
    "except InfluxDBError as e:\n",
    "    print('Error: ', e)"
   ]
  },
  {
   "cell_type": "code",
   "execution_count": 13,
   "id": "40dfe055",
   "metadata": {},
   "outputs": [
    {
     "name": "stdout",
     "output_type": "stream",
     "text": [
      "Query took 1.2930643558502197 seconds.\n"
     ]
    }
   ],
   "source": [
    "try:\n",
    "    client = InfluxDBClient(url=url, token=token, org=org)\n",
    "    query_api = QueryApi(influxdb_client=client)\n",
    "    start_time = time.time()\n",
    "    result = query_api.query_data_frame(query_worst_air)\n",
    "    end_time = time.time()\n",
    "    print(f\"Query took {end_time - start_time} seconds.\")\n",
    "    query_times['Worst Air'] = (end_time - start_time)\n",
    "except InfluxDBError as e:\n",
    "    print('Error: ', e)"
   ]
  },
  {
   "cell_type": "code",
   "execution_count": 15,
   "id": "a3d0b9c4",
   "metadata": {},
   "outputs": [
    {
     "name": "stdout",
     "output_type": "stream",
     "text": [
      "Query took 3.6683168411254883 seconds.\n"
     ]
    }
   ],
   "source": [
    "try:\n",
    "    client = InfluxDBClient(url=url, token=token, org=org)\n",
    "    query_api = QueryApi(influxdb_client=client)\n",
    "    start_time = time.time()\n",
    "    result = query_api.query_data_frame(hourly_temp_hum_query)\n",
    "    end_time = time.time()\n",
    "    print(f\"Query took {end_time - start_time} seconds.\")\n",
    "    query_times['Temp Diff'] = (end_time - start_time)\n",
    "except InfluxDBError as e:\n",
    "    print('Error: ', e)"
   ]
  },
  {
   "cell_type": "code",
   "execution_count": 16,
   "id": "2f8da052",
   "metadata": {},
   "outputs": [
    {
     "name": "stdout",
     "output_type": "stream",
     "text": [
      "Query took 10.330297231674194 seconds.\n"
     ]
    }
   ],
   "source": [
    "try:\n",
    "    client = InfluxDBClient(url=url, token=token, org=org)\n",
    "    query_api = QueryApi(influxdb_client=client)\n",
    "    start_time = time.time()\n",
    "    result = query_api.query_data_frame(temperature_rate_of_change_per_minute_by_device)\n",
    "    end_time = time.time()\n",
    "    print(f\"Query took {end_time - start_time} seconds.\")\n",
    "    query_times['Temp Change per Minute'] = (end_time - start_time)\n",
    "except InfluxDBError as e:\n",
    "    print('Error: ', e)"
   ]
  },
  {
   "cell_type": "code",
   "execution_count": 17,
   "id": "ff176ade",
   "metadata": {},
   "outputs": [
    {
     "name": "stdout",
     "output_type": "stream",
     "text": [
      "Query took 1.4016315937042236 seconds.\n"
     ]
    }
   ],
   "source": [
    "try:\n",
    "    client = InfluxDBClient(url=url, token=token, org=org)\n",
    "    query_api = QueryApi(influxdb_client=client)\n",
    "    start_time = time.time()\n",
    "    result = query_api.query_data_frame(median_hourly_temp_by_device_query)\n",
    "    end_time = time.time()\n",
    "    print(f\"Query took {end_time - start_time} seconds.\")\n",
    "    query_times['Median hourly temp'] = (end_time - start_time)\n",
    "except InfluxDBError as e:\n",
    "    print('Error: ', e)"
   ]
  },
  {
   "cell_type": "code",
   "execution_count": 23,
   "id": "54736f19",
   "metadata": {},
   "outputs": [],
   "source": [
    "performance = \"InfluxDB query times: \" + str(query_times)"
   ]
  },
  {
   "cell_type": "code",
   "execution_count": 24,
   "id": "7705ccaf",
   "metadata": {},
   "outputs": [
    {
     "name": "stdout",
     "output_type": "stream",
     "text": [
      "InfluxDB query times: {'Average Humidity': 2.8946895599365234, 'Highest Temp': 0.051518917083740234, 'Worst Air': 1.2930643558502197, 'Temp Diff': 3.6683168411254883, 'Temp Change per Minute': 10.330297231674194, 'Median hourly temp': 1.4016315937042236}\n"
     ]
    }
   ],
   "source": [
    "filename = \"performance.txt\"\n",
    "\n",
    "\n",
    "# 'a' öffnet die Datei im Append-Modus (erstellt sie, falls sie nicht existiert)\n",
    "with open(filename, \"a\", encoding=\"utf-8\") as f:\n",
    "    f.write(performance + \"\\n\")\n",
    "\n",
    "print(performance)\n"
   ]
  },
  {
   "cell_type": "code",
   "execution_count": null,
   "id": "5313991b",
   "metadata": {},
   "outputs": [],
   "source": []
  }
 ],
 "metadata": {
  "kernelspec": {
   "display_name": ".venv",
   "language": "python",
   "name": "python3"
  },
  "language_info": {
   "codemirror_mode": {
    "name": "ipython",
    "version": 3
   },
   "file_extension": ".py",
   "mimetype": "text/x-python",
   "name": "python",
   "nbconvert_exporter": "python",
   "pygments_lexer": "ipython3",
   "version": "3.12.6"
  }
 },
 "nbformat": 4,
 "nbformat_minor": 5
}
