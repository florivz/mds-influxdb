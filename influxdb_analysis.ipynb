{
 "cells": [
  {
   "cell_type": "code",
   "execution_count": 65,
   "id": "e0079bdf",
   "metadata": {},
   "outputs": [],
   "source": [
    "import os, time\n",
    "from influxdb_client import InfluxDBClient, QueryApi\n",
    "from influxdb_client.client.write_api import SYNCHRONOUS\n",
    "from influxdb_client.client.exceptions import InfluxDBError\n",
    "import time"
   ]
  },
  {
   "cell_type": "code",
   "execution_count": 66,
   "id": "9026a190",
   "metadata": {},
   "outputs": [],
   "source": [
    "token = os.environ.get(\"INFLUXDB_TOKEN\")\n",
    "org = \"th-koeln\"\n",
    "url = \"http://localhost:8086\"\n",
    "bucket = \"iot_telemetry_data\""
   ]
  },
  {
   "cell_type": "markdown",
   "id": "a11bb061",
   "metadata": {},
   "source": [
    "# Queries"
   ]
  },
  {
   "cell_type": "code",
   "execution_count": 67,
   "id": "9ff16388",
   "metadata": {},
   "outputs": [],
   "source": [
    "average_humidity_per_device_query = \"\"\"\n",
    "from(bucket: \"iot_telemetry_data\")\n",
    "  |> range(start: 0)\n",
    "  |> filter(fn: (r) =>\n",
    "      r._measurement == \"iot_telemetry\" and\n",
    "      r._field == \"humidity\"\n",
    "  )\n",
    "  |> pivot(\n",
    "      rowKey:   [\"device\"],\n",
    "      columnKey: [\"_field\"],\n",
    "      valueColumn: \"_value\"\n",
    "  )\n",
    "  |> mean(column: \"humidity\")\n",
    "  |> sort(columns: [\"device\"])\n",
    "\"\"\""
   ]
  },
  {
   "cell_type": "code",
   "execution_count": 68,
   "id": "7cac597c",
   "metadata": {},
   "outputs": [],
   "source": [
    "highest_temp_query = \"\"\"\n",
    "from(bucket: \"iot_telemetry_data\")\n",
    "  |> range(start: 0)\n",
    "  |> filter(fn: (r) =>\n",
    "      r._measurement == \"iot_telemetry\" and\n",
    "      r._field == \"temp\"\n",
    "  )\n",
    "  |> group()\n",
    "  |> max(column: \"_value\")\n",
    "  |> pivot(rowKey:[\"_time\"], columnKey: [\"_field\"], valueColumn: \"_value\")\n",
    "\"\"\""
   ]
  },
  {
   "cell_type": "code",
   "execution_count": 69,
   "id": "a338c0a5",
   "metadata": {},
   "outputs": [],
   "source": [
    "worst_air_quality_per_device_query = \"\"\"\n",
    "from(bucket: \"iot_telemetry_data\")\n",
    "  |> range(start: 0)\n",
    "  |> filter(fn: (r) =>\n",
    "      r._measurement == \"iot_telemetry\" and\n",
    "      (r._field == \"co\" or r._field == \"lpg\" or r._field == \"smoke\")\n",
    "  )\n",
    "  |> pivot(\n",
    "      rowKey:   [\"device\", \"_time\"],\n",
    "      columnKey:[\"_field\"],\n",
    "      valueColumn: \"_value\"\n",
    "  )\n",
    "  |> map(fn: (r) => ({\n",
    "      device: r.device,\n",
    "      air_quality_score: r.co + r.lpg + r.smoke\n",
    "  }))\n",
    "  |> group(columns:[\"device\"])\n",
    "  |> sum(column: \"air_quality_score\")\n",
    "  |> sort(columns: [\"air_quality_score\"], desc: true)\n",
    "\"\"\""
   ]
  },
  {
   "cell_type": "code",
   "execution_count": 70,
   "id": "3c4aaacc",
   "metadata": {},
   "outputs": [],
   "source": [
    "hourly_temp_hum_query = \"\"\"\n",
    "data = from(bucket: \"iot_telemetry_data\")\n",
    "  |> range(start: 2002-04-07T00:00:00Z, stop: now())\n",
    "  |> filter(fn: (r) => r[\"_measurement\"] == \"iot_telemetry\")\n",
    "  |> filter(fn: (r) =>\n",
    "    r[\"device\"] == \"00:0f:00:70:91:0a\" or\n",
    "    r[\"device\"] == \"1c:bf:ce:15:ec:4d\" or\n",
    "    r[\"device\"] == \"eb:b8:27:bf:9d:51\"\n",
    "  )\n",
    "  |> filter(fn: (r) => r[\"_field\"] == \"temp\" or r[\"_field\"] == \"humidity\")\n",
    "\n",
    "\n",
    "mean_temp = data\n",
    "  |> filter(fn: (r) => r[\"_field\"] == \"temp\")\n",
    "  |> aggregateWindow(every: 1h, fn: mean, createEmpty: false)\n",
    "  |> drop(columns: [\"_measurement\", \"_field\"]) // Nicht mehr benötigte Spalten entfernen\n",
    "\n",
    "\n",
    "max_humidity = data\n",
    "  |> filter(fn: (r) => r[\"_field\"] == \"humidity\")\n",
    "  |> aggregateWindow(every: 1h, fn: max, createEmpty: false)\n",
    "  |> drop(columns: [\"_measurement\", \"_field\"]) // Nicht mehr benötigte Spalten entfernen\n",
    "\n",
    "\n",
    "// Ergebnisse zusammenführen und pivotieren\n",
    "join(tables: {temp: mean_temp, humidity: max_humidity}, on: [\"_time\", \"_stop\", \"_start\", \"device\"])\n",
    "  |> rename(columns: { _value_temp: \"mean_temp\", _value_humidity: \"max_humidity\"}) // Spalten umbenennen für Klarheit\n",
    "  |> sort(columns: [\"_time\", \"device\"]) // Optional: Sortieren für bessere Lesbarkeit\n",
    "\"\"\""
   ]
  },
  {
   "cell_type": "code",
   "execution_count": 71,
   "id": "97a1e3aa",
   "metadata": {},
   "outputs": [],
   "source": [
    "temperature_rate_of_change_per_minute_by_device = \"\"\"\n",
    "from(bucket: \"iot_telemetry_data\")\n",
    "  |> range(start: 2020-07-12T00:00:00Z, stop: 2020-07-19T23:59:59Z)\n",
    "  |> filter(fn: (r) => r[\"_measurement\"] == \"iot_telemetry\")\n",
    "  |> filter(fn: (r) => r[\"_field\"] == \"temp\")\n",
    "  |> group(columns: [\"device\"])\n",
    "  |> derivative(unit: 1m, nonNegative: false)\n",
    "  |> yield(name: \"temperature_rate_of_change_per_minute\")\n",
    "  |> pivot(rowKey:[\"_time\"], columnKey: [\"_field\"], valueColumn: \"_value\")\n",
    "\"\"\""
   ]
  },
  {
   "cell_type": "code",
   "execution_count": 72,
   "id": "dd32fdea",
   "metadata": {},
   "outputs": [],
   "source": [
    "times_stamps_query = '''\n",
    "from(bucket: \"iot_telemetry_data\")\n",
    "  |> range(start: 0)\n",
    "  |> filter(fn: (r) => r._measurement == \"iot_telemetry\")\n",
    "  |> keep(columns: [\"_time\"])\n",
    "'''"
   ]
  },
  {
   "cell_type": "code",
   "execution_count": 73,
   "id": "8eba02c6",
   "metadata": {},
   "outputs": [],
   "source": [
    "avg_temp_humidity_ratio_query = \"\"\"\n",
    "from(bucket: \"iot_telemetry_data\")\n",
    "    |> range(start: 2020-07-14T00:01:00Z, stop: 2020-07-19T03:01:00Z)\n",
    "    |> filter(fn: (r) => r._measurement == \"iot_telemetry\" and (r._field == \"temp\" or r._field == \"humidity\"))\n",
    "    |> pivot(rowKey:[\"_time\", \"device\"], columnKey: [\"_field\"], valueColumn: \"_value\")\n",
    "    |> filter(fn: (r) => exists r.temp and exists r.humidity and r.humidity != 0.0)\n",
    "    |> map(fn: (r) => ({ r with temp_humidity_ratio: r.temp / r.humidity }))\n",
    "    |> mean(column: \"temp_humidity_ratio\")\n",
    "    |> yield(name: \"avg_temp_humidity_ratio\")\n",
    "\"\"\""
   ]
  },
  {
   "cell_type": "code",
   "execution_count": 74,
   "id": "519e994b",
   "metadata": {},
   "outputs": [],
   "source": [
    "average_humidity_per_device_query_complex = \"\"\"\n",
    "from(bucket: \"iot_telemetry_data\")\n",
    "  |> range(start: 0)\n",
    "  |> filter(fn: (r) =>\n",
    "      r._measurement == \"iot_telemetry\" and\n",
    "      r._field == \"humidity\"\n",
    "  )\n",
    "  |> group(columns: [\"device\"])\n",
    "  |> reduce(fn: (r, acc) => ({\n",
    "      device: r.device,\n",
    "      sum: acc.sum + r._value,\n",
    "      count: acc.count + 1\n",
    "  }), identity: {sum: 0.0, count: 0})\n",
    "  |> map(fn: (r) => ({ r with avg_humidity: r.sum / float(v: r.count) }))\n",
    "  |> keep(columns: [\"device\", \"avg_humidity\"])\n",
    "  |> sort(columns: [\"device\"])\n",
    "\"\"\""
   ]
  },
  {
   "cell_type": "code",
   "execution_count": 75,
   "id": "a1eca9d4",
   "metadata": {},
   "outputs": [],
   "source": [
    "highest_temp_query_complex = \"\"\"\n",
    "from(bucket: \"iot_telemetry_data\")\n",
    "  |> range(start: 0)\n",
    "  |> filter(fn: (r) =>\n",
    "      r._measurement == \"iot_telemetry\" and\n",
    "      r._field == \"temp\"\n",
    "  )\n",
    "  |> aggregateWindow(every: 1h, fn: max, createEmpty: false)\n",
    "  |> group()\n",
    "  |> max(column: \"_value\")\n",
    "  |> pivot(rowKey:[\"_time\"], columnKey: [\"_field\"], valueColumn: \"_value\")\n",
    "\"\"\""
   ]
  },
  {
   "cell_type": "code",
   "execution_count": 76,
   "id": "b00d564e",
   "metadata": {},
   "outputs": [
    {
     "name": "stderr",
     "output_type": "stream",
     "text": [
      "c:\\Users\\flori\\Documents\\mds-influxdb\\.venv\\Lib\\site-packages\\influxdb_client\\client\\warnings.py:31: MissingPivotFunction: The query doesn't contains the pivot() function.\n",
      "\n",
      "The result will not be shaped to optimal processing by pandas.DataFrame. Use the pivot() function by:\n",
      "\n",
      "    \n",
      "from(bucket: \"iot_telemetry_data\")\n",
      "  |> range(start: 0)\n",
      "  |> filter(fn: (r) => r._measurement == \"iot_telemetry\")\n",
      "  |> keep(columns: [\"_time\"])\n",
      " |> pivot(rowKey:[\"_time\"], columnKey: [\"_field\"], valueColumn: \"_value\")\n",
      "\n",
      "You can disable this warning by:\n",
      "    import warnings\n",
      "    from influxdb_client.client.warnings import MissingPivotFunction\n",
      "\n",
      "    warnings.simplefilter(\"ignore\", MissingPivotFunction)\n",
      "\n",
      "For more info see:\n",
      "    - https://docs.influxdata.com/resources/videos/pivots-in-flux/\n",
      "    - https://docs.influxdata.com/flux/latest/stdlib/universe/pivot/\n",
      "    - https://docs.influxdata.com/flux/latest/stdlib/influxdata/influxdb/schema/fieldsascols/\n",
      "\n",
      "  warnings.warn(message, MissingPivotFunction)\n"
     ]
    },
    {
     "name": "stdout",
     "output_type": "stream",
     "text": [
      "result                             _result\n",
      "table                                    0\n",
      "_time     2020-07-12 00:01:34.385974+00:00\n",
      "dtype: object\n",
      "result                             _result\n",
      "table                                    0\n",
      "_time     2020-07-20 00:03:37.264312+00:00\n",
      "dtype: object\n"
     ]
    }
   ],
   "source": [
    "import pandas as pd\n",
    "\n",
    "try:\n",
    "    client = InfluxDBClient(url=url, token=token, org=org)\n",
    "    query_api = QueryApi(influxdb_client=client)\n",
    "    result = pd.DataFrame(query_api.query_data_frame(times_stamps_query))\n",
    "    print(result.min())\n",
    "    print(result.max())\n",
    "except InfluxDBError as e:\n",
    "    print('Error: ', e)"
   ]
  },
  {
   "cell_type": "markdown",
   "id": "e336dfea",
   "metadata": {},
   "source": [
    "# Performance Analysis"
   ]
  },
  {
   "cell_type": "code",
   "execution_count": 77,
   "id": "cc7171b5",
   "metadata": {},
   "outputs": [],
   "source": [
    "query_times = {}"
   ]
  },
  {
   "cell_type": "code",
   "execution_count": 78,
   "id": "7169ba2e",
   "metadata": {},
   "outputs": [
    {
     "name": "stdout",
     "output_type": "stream",
     "text": [
      "Query took 0.16396498680114746 seconds.\n"
     ]
    }
   ],
   "source": [
    "try:\n",
    "    client = InfluxDBClient(url=url, token=token, org=org)\n",
    "    query_api = QueryApi(influxdb_client=client)\n",
    "    start_time = time.time()\n",
    "    result = query_api.query_data_frame(average_humidity_per_device_query)\n",
    "    end_time = time.time()\n",
    "    print(f\"Query took {end_time - start_time} seconds.\")\n",
    "    query_times['Average Humidity'] = (end_time - start_time)\n",
    "except InfluxDBError as e:\n",
    "    print('Error: ', e)"
   ]
  },
  {
   "cell_type": "code",
   "execution_count": 79,
   "id": "aa2d4f76",
   "metadata": {},
   "outputs": [
    {
     "name": "stdout",
     "output_type": "stream",
     "text": [
      "Query took 0.01749563217163086 seconds.\n"
     ]
    }
   ],
   "source": [
    "try:\n",
    "    client = InfluxDBClient(url=url, token=token, org=org)\n",
    "    query_api = QueryApi(influxdb_client=client)\n",
    "    start_time = time.time()\n",
    "    result = query_api.query_data_frame(highest_temp_query)\n",
    "    end_time = time.time()\n",
    "    print(f\"Query took {end_time - start_time} seconds.\")\n",
    "    query_times['Highest Temp'] = (end_time - start_time)\n",
    "except InfluxDBError as e:\n",
    "    print('Error: ', e)"
   ]
  },
  {
   "cell_type": "code",
   "execution_count": 80,
   "id": "40dfe055",
   "metadata": {},
   "outputs": [
    {
     "name": "stdout",
     "output_type": "stream",
     "text": [
      "Query took 1.1976702213287354 seconds.\n"
     ]
    }
   ],
   "source": [
    "try:\n",
    "    client = InfluxDBClient(url=url, token=token, org=org)\n",
    "    query_api = QueryApi(influxdb_client=client)\n",
    "    start_time = time.time()\n",
    "    result = query_api.query_data_frame(worst_air_quality_per_device_query)\n",
    "    end_time = time.time()\n",
    "    print(f\"Query took {end_time - start_time} seconds.\")\n",
    "    query_times['Worst Air'] = (end_time - start_time)\n",
    "except InfluxDBError as e:\n",
    "    print('Error: ', e)"
   ]
  },
  {
   "cell_type": "code",
   "execution_count": 81,
   "id": "6bbf4c63",
   "metadata": {},
   "outputs": [
    {
     "name": "stdout",
     "output_type": "stream",
     "text": [
      "Query took 1.7272686958312988 seconds.\n"
     ]
    }
   ],
   "source": [
    "try:\n",
    "    client = InfluxDBClient(url=url, token=token, org=org)\n",
    "    query_api = QueryApi(influxdb_client=client)\n",
    "    start_time = time.time()\n",
    "    result = query_api.query_data_frame(avg_temp_humidity_ratio_query)\n",
    "    end_time = time.time()\n",
    "    print(f\"Query took {end_time - start_time} seconds.\")\n",
    "    query_times['Avg Temp Humidity Ratio'] = (end_time - start_time)\n",
    "except InfluxDBError as e:\n",
    "    print('Error: ', e)"
   ]
  },
  {
   "cell_type": "markdown",
   "id": "dceb77ed",
   "metadata": {},
   "source": [
    "# Summary"
   ]
  },
  {
   "cell_type": "code",
   "execution_count": 82,
   "id": "5a9f227c",
   "metadata": {},
   "outputs": [
    {
     "name": "stdout",
     "output_type": "stream",
     "text": [
      "{'Average Humidity': 0.16396498680114746, 'Highest Temp': 0.01749563217163086, 'Worst Air': 1.1976702213287354, 'Avg Temp Humidity Ratio': 1.7272686958312988}\n"
     ]
    }
   ],
   "source": [
    "print(query_times)"
   ]
  },
  {
   "cell_type": "code",
   "execution_count": 83,
   "id": "54736f19",
   "metadata": {},
   "outputs": [],
   "source": [
    "performance = \"InfluxDB query times: \" + str(query_times)"
   ]
  },
  {
   "cell_type": "code",
   "execution_count": 84,
   "id": "7705ccaf",
   "metadata": {},
   "outputs": [
    {
     "name": "stdout",
     "output_type": "stream",
     "text": [
      "InfluxDB query times: {'Average Humidity': 0.16396498680114746, 'Highest Temp': 0.01749563217163086, 'Worst Air': 1.1976702213287354, 'Avg Temp Humidity Ratio': 1.7272686958312988}\n"
     ]
    }
   ],
   "source": [
    "filename = \"performance.txt\"\n",
    "\n",
    "\n",
    "# 'a' öffnet die Datei im Append-Modus (erstellt sie, falls sie nicht existiert)\n",
    "with open(filename, \"a\", encoding=\"utf-8\") as f:\n",
    "    f.write(performance + \"\\n\")\n",
    "\n",
    "print(performance)\n"
   ]
  }
 ],
 "metadata": {
  "kernelspec": {
   "display_name": ".venv",
   "language": "python",
   "name": "python3"
  },
  "language_info": {
   "codemirror_mode": {
    "name": "ipython",
    "version": 3
   },
   "file_extension": ".py",
   "mimetype": "text/x-python",
   "name": "python",
   "nbconvert_exporter": "python",
   "pygments_lexer": "ipython3",
   "version": "3.12.6"
  }
 },
 "nbformat": 4,
 "nbformat_minor": 5
}
