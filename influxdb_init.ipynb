{
 "cells": [
  {
   "cell_type": "code",
   "execution_count": 1,
   "id": "2bea6dcf",
   "metadata": {},
   "outputs": [],
   "source": [
    "import influxdb_client, os, time\n",
    "from influxdb_client import InfluxDBClient, Point, WritePrecision\n",
    "from influxdb_client.client.write_api import SYNCHRONOUS\n",
    "import pandas as pd\n",
    "import time"
   ]
  },
  {
   "cell_type": "markdown",
   "id": "180336c0",
   "metadata": {},
   "source": [
    "# Prequisites"
   ]
  },
  {
   "cell_type": "code",
   "execution_count": 2,
   "id": "3bf9259c",
   "metadata": {},
   "outputs": [],
   "source": [
    "token = os.environ.get(\"INFLUXDB_TOKEN\")\n",
    "org = \"th-koeln\"\n",
    "url = \"http://localhost:8086\"\n",
    "bucket = \"iot_telemetry_data\""
   ]
  },
  {
   "cell_type": "markdown",
   "id": "02d1a011",
   "metadata": {},
   "source": [
    "# Transforming CSV for InfluxDB"
   ]
  },
  {
   "cell_type": "code",
   "execution_count": 3,
   "id": "a0967ce2",
   "metadata": {},
   "outputs": [
    {
     "data": {
      "text/html": [
       "<div>\n",
       "<style scoped>\n",
       "    .dataframe tbody tr th:only-of-type {\n",
       "        vertical-align: middle;\n",
       "    }\n",
       "\n",
       "    .dataframe tbody tr th {\n",
       "        vertical-align: top;\n",
       "    }\n",
       "\n",
       "    .dataframe thead th {\n",
       "        text-align: right;\n",
       "    }\n",
       "</style>\n",
       "<table border=\"1\" class=\"dataframe\">\n",
       "  <thead>\n",
       "    <tr style=\"text-align: right;\">\n",
       "      <th></th>\n",
       "      <th>ts</th>\n",
       "      <th>device</th>\n",
       "      <th>co</th>\n",
       "      <th>humidity</th>\n",
       "      <th>light</th>\n",
       "      <th>lpg</th>\n",
       "      <th>motion</th>\n",
       "      <th>smoke</th>\n",
       "      <th>temp</th>\n",
       "    </tr>\n",
       "  </thead>\n",
       "  <tbody>\n",
       "    <tr>\n",
       "      <th>405179</th>\n",
       "      <td>2020-07-20 00:03:33.162014961</td>\n",
       "      <td>00:0f:00:70:91:0a</td>\n",
       "      <td>0.003745</td>\n",
       "      <td>75.300003</td>\n",
       "      <td>False</td>\n",
       "      <td>0.006247</td>\n",
       "      <td>False</td>\n",
       "      <td>0.016437</td>\n",
       "      <td>19.200001</td>\n",
       "    </tr>\n",
       "    <tr>\n",
       "      <th>405180</th>\n",
       "      <td>2020-07-20 00:03:33.576560736</td>\n",
       "      <td>b8:27:eb:bf:9d:51</td>\n",
       "      <td>0.005882</td>\n",
       "      <td>48.500000</td>\n",
       "      <td>False</td>\n",
       "      <td>0.008660</td>\n",
       "      <td>False</td>\n",
       "      <td>0.023301</td>\n",
       "      <td>22.200000</td>\n",
       "    </tr>\n",
       "    <tr>\n",
       "      <th>405181</th>\n",
       "      <td>2020-07-20 00:03:36.167959213</td>\n",
       "      <td>1c:bf:ce:15:ec:4d</td>\n",
       "      <td>0.004540</td>\n",
       "      <td>75.699997</td>\n",
       "      <td>True</td>\n",
       "      <td>0.007181</td>\n",
       "      <td>False</td>\n",
       "      <td>0.019076</td>\n",
       "      <td>26.600000</td>\n",
       "    </tr>\n",
       "    <tr>\n",
       "      <th>405182</th>\n",
       "      <td>2020-07-20 00:03:36.979521513</td>\n",
       "      <td>00:0f:00:70:91:0a</td>\n",
       "      <td>0.003745</td>\n",
       "      <td>75.300003</td>\n",
       "      <td>False</td>\n",
       "      <td>0.006247</td>\n",
       "      <td>False</td>\n",
       "      <td>0.016437</td>\n",
       "      <td>19.200001</td>\n",
       "    </tr>\n",
       "    <tr>\n",
       "      <th>405183</th>\n",
       "      <td>2020-07-20 00:03:37.264312506</td>\n",
       "      <td>b8:27:eb:bf:9d:51</td>\n",
       "      <td>0.005914</td>\n",
       "      <td>48.400000</td>\n",
       "      <td>False</td>\n",
       "      <td>0.008695</td>\n",
       "      <td>False</td>\n",
       "      <td>0.023400</td>\n",
       "      <td>22.200000</td>\n",
       "    </tr>\n",
       "  </tbody>\n",
       "</table>\n",
       "</div>"
      ],
      "text/plain": [
       "                                  ts             device        co   humidity  \\\n",
       "405179 2020-07-20 00:03:33.162014961  00:0f:00:70:91:0a  0.003745  75.300003   \n",
       "405180 2020-07-20 00:03:33.576560736  b8:27:eb:bf:9d:51  0.005882  48.500000   \n",
       "405181 2020-07-20 00:03:36.167959213  1c:bf:ce:15:ec:4d  0.004540  75.699997   \n",
       "405182 2020-07-20 00:03:36.979521513  00:0f:00:70:91:0a  0.003745  75.300003   \n",
       "405183 2020-07-20 00:03:37.264312506  b8:27:eb:bf:9d:51  0.005914  48.400000   \n",
       "\n",
       "        light       lpg  motion     smoke       temp  \n",
       "405179  False  0.006247   False  0.016437  19.200001  \n",
       "405180  False  0.008660   False  0.023301  22.200000  \n",
       "405181   True  0.007181   False  0.019076  26.600000  \n",
       "405182  False  0.006247   False  0.016437  19.200001  \n",
       "405183  False  0.008695   False  0.023400  22.200000  "
      ]
     },
     "execution_count": 3,
     "metadata": {},
     "output_type": "execute_result"
    }
   ],
   "source": [
    "iot_tele_df = pd.read_csv(\"data/iot_telemetry_data.csv\")\n",
    "iot_tele_df = iot_tele_df.dropna()\n",
    "\n",
    "# Convert the 'ts' column to datetime format\n",
    "iot_tele_df['ts'] = pd.to_datetime(iot_tele_df['ts'], unit='s')\n",
    "\n",
    "iot_tele_df.tail()"
   ]
  },
  {
   "cell_type": "code",
   "execution_count": 4,
   "id": "44390a30",
   "metadata": {},
   "outputs": [
    {
     "name": "stdout",
     "output_type": "stream",
     "text": [
      "Date range:  2020-07-12 00:01:34.385974646  -  2020-07-20 00:03:37.264312506\n"
     ]
    }
   ],
   "source": [
    "# Print date range\n",
    "print(\"Date range: \", iot_tele_df['ts'].min(), \" - \", iot_tele_df['ts'].max())"
   ]
  },
  {
   "cell_type": "markdown",
   "id": "dada85fa",
   "metadata": {},
   "source": [
    "**Important concepts**\n",
    "\n",
    "1. *Measurement*: A specific measure from the dataset f.e. iot_telemetry.\n",
    "2. *Tag*: A key value pair to specify group to filter on f.e. devices --> filter device A or B.\n",
    "3. *Field* & *Value*: A concrete gathered variable and its characteristic."
   ]
  },
  {
   "cell_type": "code",
   "execution_count": 4,
   "id": "caefc0bb",
   "metadata": {},
   "outputs": [],
   "source": [
    "measurement_name = \"iot_telemetry\""
   ]
  },
  {
   "cell_type": "code",
   "execution_count": null,
   "id": "268124fe",
   "metadata": {},
   "outputs": [],
   "source": [
    "points = []\n",
    "\n",
    "for index, row in iot_tele_df.iterrows():\n",
    "    point = (\n",
    "        Point(measurement_name)\n",
    "        .tag(\"device\", row[\"device\"])\n",
    "        .field(\"carbon_monoxide\", float(row[\"co\"]))\n",
    "        .field(\"humidity\", float(row[\"humidity\"]))\n",
    "        .field(\"light\", bool(row[\"light\"]))\n",
    "        .field(\"liquid_petroleum_gas\", float(row[\"lpg\"]))\n",
    "        .field(\"motion\", bool(row[\"motion\"]))\n",
    "        .field(\"smoke\", float(row[\"smoke\"]))\n",
    "        .field(\"temp\", float(row[\"temp\"]))\n",
    "        .time(pd.to_datetime(row[\"ts\"]), WritePrecision.NS)\n",
    "    )\n",
    "    points.append(point)"
   ]
  },
  {
   "cell_type": "code",
   "execution_count": 6,
   "id": "9f64e100",
   "metadata": {},
   "outputs": [
    {
     "name": "stdout",
     "output_type": "stream",
     "text": [
      "iot_telemetry,device=b8:27:eb:bf:9d:51 carbon_monoxide=0.0049559386483912,humidity=51,light=false,liquid_petroleum_gas=0.0076508222705571,motion=false,smoke=0.0204112701224129,temp=22.7 1594512094385974000\n",
      "iot_telemetry,device=00:0f:00:70:91:0a carbon_monoxide=0.0028400886071015,humidity=76,light=false,liquid_petroleum_gas=0.005114383400977,motion=false,smoke=0.0132748367048515,temp=19.700000762939453 1594512094735567000\n",
      "iot_telemetry,device=b8:27:eb:bf:9d:51 carbon_monoxide=0.0049760123404216,humidity=50.9,light=false,liquid_petroleum_gas=0.007673227406398,motion=false,smoke=0.0204751255761782,temp=22.6 1594512098073572000\n"
     ]
    }
   ],
   "source": [
    "for i in range(min(3, len(points))): \n",
    "    print(points[i])"
   ]
  },
  {
   "cell_type": "code",
   "execution_count": 7,
   "id": "84b2186d",
   "metadata": {},
   "outputs": [
    {
     "name": "stdout",
     "output_type": "stream",
     "text": [
      "Data written to InfluxDB successfully!\n"
     ]
    }
   ],
   "source": [
    "# Write data to InfluxDB with exception handling\n",
    "try:\n",
    "    write_client = influxdb_client.InfluxDBClient(url=url, token=token, org=org)\n",
    "    write_api = write_client.write_api(write_options=SYNCHRONOUS)\n",
    "    write_api.write(bucket=bucket, org=org, record=points)\n",
    "    print(\"Data written to InfluxDB successfully!\")\n",
    "except Exception as e:\n",
    "    print(f\"Failed to write data to InfluxDB: {e}\")\n",
    "finally:\n",
    "    if 'write_client' in locals() and write_client:\n",
    "        write_client.close()"
   ]
  },
  {
   "cell_type": "markdown",
   "id": "a417eb43",
   "metadata": {},
   "source": [
    "# Reading the bucket"
   ]
  },
  {
   "cell_type": "code",
   "execution_count": 5,
   "id": "52e7f696",
   "metadata": {},
   "outputs": [],
   "source": [
    "    # Modified query to pivot data for a structured DataFrame and read all data\n",
    "query_read_all = f'''from(bucket: \"{bucket}\")\n",
    "    |> range(start: 0)\n",
    "    |> filter(fn: (r) => r._measurement == \"{measurement_name}\")\n",
    "    |> pivot(rowKey:[\"_time\", \"device\"], columnKey: [\"_field\"], valueColumn: \"_value\")'''"
   ]
  },
  {
   "cell_type": "code",
   "execution_count": 7,
   "id": "c152ed8d",
   "metadata": {},
   "outputs": [
    {
     "name": "stdout",
     "output_type": "stream",
     "text": [
      "Reading data from InfluxDB...\n",
      "Data read successfully in 22.22 seconds!\n",
      "InfluxDB read client closed.\n"
     ]
    }
   ],
   "source": [
    "# Read data from InfluxDB to verify and display as DataFrame\n",
    "read_client = None\n",
    "try:\n",
    "    read_client = influxdb_client.InfluxDBClient(url=url, token=token, org=org)\n",
    "    query_api = read_client.query_api()\n",
    "    start = time.time()\n",
    "    print(\"Reading data from InfluxDB...\")\n",
    "    df_result = query_api.query_data_frame(query=query_read_all, org=org)\n",
    "    end = time.time()\n",
    "    print(f\"Data read successfully in {end - start:.2f} seconds!\")\n",
    "except Exception as e:\n",
    "    print(f\"Failed to read data from InfluxDB: {e}\")\n",
    "finally:\n",
    "    if read_client:\n",
    "        read_client.close()\n",
    "        print('InfluxDB read client closed.')"
   ]
  },
  {
   "cell_type": "code",
   "execution_count": 8,
   "id": "0c107080",
   "metadata": {},
   "outputs": [
    {
     "data": {
      "text/html": [
       "<div>\n",
       "<style scoped>\n",
       "    .dataframe tbody tr th:only-of-type {\n",
       "        vertical-align: middle;\n",
       "    }\n",
       "\n",
       "    .dataframe tbody tr th {\n",
       "        vertical-align: top;\n",
       "    }\n",
       "\n",
       "    .dataframe thead th {\n",
       "        text-align: right;\n",
       "    }\n",
       "</style>\n",
       "<table border=\"1\" class=\"dataframe\">\n",
       "  <thead>\n",
       "    <tr style=\"text-align: right;\">\n",
       "      <th></th>\n",
       "      <th>result</th>\n",
       "      <th>table</th>\n",
       "      <th>_start</th>\n",
       "      <th>_stop</th>\n",
       "      <th>_time</th>\n",
       "      <th>_measurement</th>\n",
       "      <th>device</th>\n",
       "      <th>carbon_monoxide</th>\n",
       "      <th>humidity</th>\n",
       "      <th>light</th>\n",
       "      <th>liquid_petroleum_gas</th>\n",
       "      <th>motion</th>\n",
       "      <th>smoke</th>\n",
       "      <th>temp</th>\n",
       "    </tr>\n",
       "  </thead>\n",
       "  <tbody>\n",
       "    <tr>\n",
       "      <th>0</th>\n",
       "      <td>_result</td>\n",
       "      <td>0</td>\n",
       "      <td>1970-01-01 00:00:00+00:00</td>\n",
       "      <td>2025-05-15 10:10:01.581731+00:00</td>\n",
       "      <td>2020-07-12 00:01:34.735567+00:00</td>\n",
       "      <td>iot_telemetry</td>\n",
       "      <td>00:0f:00:70:91:0a</td>\n",
       "      <td>0.002840</td>\n",
       "      <td>76.000000</td>\n",
       "      <td>False</td>\n",
       "      <td>0.005114</td>\n",
       "      <td>False</td>\n",
       "      <td>0.013275</td>\n",
       "      <td>19.700001</td>\n",
       "    </tr>\n",
       "    <tr>\n",
       "      <th>1</th>\n",
       "      <td>_result</td>\n",
       "      <td>0</td>\n",
       "      <td>1970-01-01 00:00:00+00:00</td>\n",
       "      <td>2025-05-15 10:10:01.581731+00:00</td>\n",
       "      <td>2020-07-12 00:01:46.869076+00:00</td>\n",
       "      <td>iot_telemetry</td>\n",
       "      <td>00:0f:00:70:91:0a</td>\n",
       "      <td>0.002938</td>\n",
       "      <td>76.000000</td>\n",
       "      <td>False</td>\n",
       "      <td>0.005241</td>\n",
       "      <td>False</td>\n",
       "      <td>0.013628</td>\n",
       "      <td>19.700001</td>\n",
       "    </tr>\n",
       "    <tr>\n",
       "      <th>2</th>\n",
       "      <td>_result</td>\n",
       "      <td>0</td>\n",
       "      <td>1970-01-01 00:00:00+00:00</td>\n",
       "      <td>2025-05-15 10:10:01.581731+00:00</td>\n",
       "      <td>2020-07-12 00:02:02.785731+00:00</td>\n",
       "      <td>iot_telemetry</td>\n",
       "      <td>00:0f:00:70:91:0a</td>\n",
       "      <td>0.002905</td>\n",
       "      <td>75.800003</td>\n",
       "      <td>False</td>\n",
       "      <td>0.005199</td>\n",
       "      <td>False</td>\n",
       "      <td>0.013509</td>\n",
       "      <td>19.700001</td>\n",
       "    </tr>\n",
       "    <tr>\n",
       "      <th>3</th>\n",
       "      <td>_result</td>\n",
       "      <td>0</td>\n",
       "      <td>1970-01-01 00:00:00+00:00</td>\n",
       "      <td>2025-05-15 10:10:01.581731+00:00</td>\n",
       "      <td>2020-07-12 00:02:11.476376+00:00</td>\n",
       "      <td>iot_telemetry</td>\n",
       "      <td>00:0f:00:70:91:0a</td>\n",
       "      <td>0.002938</td>\n",
       "      <td>75.800003</td>\n",
       "      <td>False</td>\n",
       "      <td>0.005241</td>\n",
       "      <td>False</td>\n",
       "      <td>0.013628</td>\n",
       "      <td>19.700001</td>\n",
       "    </tr>\n",
       "    <tr>\n",
       "      <th>4</th>\n",
       "      <td>_result</td>\n",
       "      <td>0</td>\n",
       "      <td>1970-01-01 00:00:00+00:00</td>\n",
       "      <td>2025-05-15 10:10:01.581731+00:00</td>\n",
       "      <td>2020-07-12 00:02:15.289086+00:00</td>\n",
       "      <td>iot_telemetry</td>\n",
       "      <td>00:0f:00:70:91:0a</td>\n",
       "      <td>0.002840</td>\n",
       "      <td>76.000000</td>\n",
       "      <td>False</td>\n",
       "      <td>0.005114</td>\n",
       "      <td>False</td>\n",
       "      <td>0.013275</td>\n",
       "      <td>19.700001</td>\n",
       "    </tr>\n",
       "  </tbody>\n",
       "</table>\n",
       "</div>"
      ],
      "text/plain": [
       "    result  table                    _start                            _stop  \\\n",
       "0  _result      0 1970-01-01 00:00:00+00:00 2025-05-15 10:10:01.581731+00:00   \n",
       "1  _result      0 1970-01-01 00:00:00+00:00 2025-05-15 10:10:01.581731+00:00   \n",
       "2  _result      0 1970-01-01 00:00:00+00:00 2025-05-15 10:10:01.581731+00:00   \n",
       "3  _result      0 1970-01-01 00:00:00+00:00 2025-05-15 10:10:01.581731+00:00   \n",
       "4  _result      0 1970-01-01 00:00:00+00:00 2025-05-15 10:10:01.581731+00:00   \n",
       "\n",
       "                             _time   _measurement             device  \\\n",
       "0 2020-07-12 00:01:34.735567+00:00  iot_telemetry  00:0f:00:70:91:0a   \n",
       "1 2020-07-12 00:01:46.869076+00:00  iot_telemetry  00:0f:00:70:91:0a   \n",
       "2 2020-07-12 00:02:02.785731+00:00  iot_telemetry  00:0f:00:70:91:0a   \n",
       "3 2020-07-12 00:02:11.476376+00:00  iot_telemetry  00:0f:00:70:91:0a   \n",
       "4 2020-07-12 00:02:15.289086+00:00  iot_telemetry  00:0f:00:70:91:0a   \n",
       "\n",
       "   carbon_monoxide   humidity  light  liquid_petroleum_gas  motion     smoke  \\\n",
       "0         0.002840  76.000000  False              0.005114   False  0.013275   \n",
       "1         0.002938  76.000000  False              0.005241   False  0.013628   \n",
       "2         0.002905  75.800003  False              0.005199   False  0.013509   \n",
       "3         0.002938  75.800003  False              0.005241   False  0.013628   \n",
       "4         0.002840  76.000000  False              0.005114   False  0.013275   \n",
       "\n",
       "        temp  \n",
       "0  19.700001  \n",
       "1  19.700001  \n",
       "2  19.700001  \n",
       "3  19.700001  \n",
       "4  19.700001  "
      ]
     },
     "execution_count": 8,
     "metadata": {},
     "output_type": "execute_result"
    }
   ],
   "source": [
    "df_result.head()"
   ]
  },
  {
   "cell_type": "code",
   "execution_count": 13,
   "id": "f3002a4e",
   "metadata": {},
   "outputs": [
    {
     "data": {
      "text/plain": [
       "405171"
      ]
     },
     "execution_count": 13,
     "metadata": {},
     "output_type": "execute_result"
    }
   ],
   "source": [
    "len(df_result)"
   ]
  }
 ],
 "metadata": {
  "kernelspec": {
   "display_name": ".venv",
   "language": "python",
   "name": "python3"
  },
  "language_info": {
   "codemirror_mode": {
    "name": "ipython",
    "version": 3
   },
   "file_extension": ".py",
   "mimetype": "text/x-python",
   "name": "python",
   "nbconvert_exporter": "python",
   "pygments_lexer": "ipython3",
   "version": "3.12.6"
  }
 },
 "nbformat": 4,
 "nbformat_minor": 5
}
