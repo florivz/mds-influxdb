{
 "cells": [
  {
   "cell_type": "code",
   "execution_count": 53,
   "id": "a847c6de",
   "metadata": {},
   "outputs": [],
   "source": [
    "import oracledb, os, time, pandas as pd"
   ]
  },
  {
   "cell_type": "code",
   "execution_count": 12,
   "id": "187b52e3",
   "metadata": {},
   "outputs": [
    {
     "data": {
      "text/html": [
       "<div>\n",
       "<style scoped>\n",
       "    .dataframe tbody tr th:only-of-type {\n",
       "        vertical-align: middle;\n",
       "    }\n",
       "\n",
       "    .dataframe tbody tr th {\n",
       "        vertical-align: top;\n",
       "    }\n",
       "\n",
       "    .dataframe thead th {\n",
       "        text-align: right;\n",
       "    }\n",
       "</style>\n",
       "<table border=\"1\" class=\"dataframe\">\n",
       "  <thead>\n",
       "    <tr style=\"text-align: right;\">\n",
       "      <th></th>\n",
       "      <th>ts</th>\n",
       "      <th>device</th>\n",
       "      <th>co</th>\n",
       "      <th>humidity</th>\n",
       "      <th>light</th>\n",
       "      <th>lpg</th>\n",
       "      <th>motion</th>\n",
       "      <th>smoke</th>\n",
       "      <th>temp</th>\n",
       "    </tr>\n",
       "  </thead>\n",
       "  <tbody>\n",
       "    <tr>\n",
       "      <th>0</th>\n",
       "      <td>1.594512e+09</td>\n",
       "      <td>b8:27:eb:bf:9d:51</td>\n",
       "      <td>0.004956</td>\n",
       "      <td>51.000000</td>\n",
       "      <td>False</td>\n",
       "      <td>0.007651</td>\n",
       "      <td>False</td>\n",
       "      <td>0.020411</td>\n",
       "      <td>22.700000</td>\n",
       "    </tr>\n",
       "    <tr>\n",
       "      <th>1</th>\n",
       "      <td>1.594512e+09</td>\n",
       "      <td>00:0f:00:70:91:0a</td>\n",
       "      <td>0.002840</td>\n",
       "      <td>76.000000</td>\n",
       "      <td>False</td>\n",
       "      <td>0.005114</td>\n",
       "      <td>False</td>\n",
       "      <td>0.013275</td>\n",
       "      <td>19.700001</td>\n",
       "    </tr>\n",
       "    <tr>\n",
       "      <th>2</th>\n",
       "      <td>1.594512e+09</td>\n",
       "      <td>b8:27:eb:bf:9d:51</td>\n",
       "      <td>0.004976</td>\n",
       "      <td>50.900000</td>\n",
       "      <td>False</td>\n",
       "      <td>0.007673</td>\n",
       "      <td>False</td>\n",
       "      <td>0.020475</td>\n",
       "      <td>22.600000</td>\n",
       "    </tr>\n",
       "    <tr>\n",
       "      <th>3</th>\n",
       "      <td>1.594512e+09</td>\n",
       "      <td>1c:bf:ce:15:ec:4d</td>\n",
       "      <td>0.004403</td>\n",
       "      <td>76.800003</td>\n",
       "      <td>True</td>\n",
       "      <td>0.007023</td>\n",
       "      <td>False</td>\n",
       "      <td>0.018628</td>\n",
       "      <td>27.000000</td>\n",
       "    </tr>\n",
       "    <tr>\n",
       "      <th>4</th>\n",
       "      <td>1.594512e+09</td>\n",
       "      <td>b8:27:eb:bf:9d:51</td>\n",
       "      <td>0.004967</td>\n",
       "      <td>50.900000</td>\n",
       "      <td>False</td>\n",
       "      <td>0.007664</td>\n",
       "      <td>False</td>\n",
       "      <td>0.020448</td>\n",
       "      <td>22.600000</td>\n",
       "    </tr>\n",
       "  </tbody>\n",
       "</table>\n",
       "</div>"
      ],
      "text/plain": [
       "             ts             device        co   humidity  light       lpg  \\\n",
       "0  1.594512e+09  b8:27:eb:bf:9d:51  0.004956  51.000000  False  0.007651   \n",
       "1  1.594512e+09  00:0f:00:70:91:0a  0.002840  76.000000  False  0.005114   \n",
       "2  1.594512e+09  b8:27:eb:bf:9d:51  0.004976  50.900000  False  0.007673   \n",
       "3  1.594512e+09  1c:bf:ce:15:ec:4d  0.004403  76.800003   True  0.007023   \n",
       "4  1.594512e+09  b8:27:eb:bf:9d:51  0.004967  50.900000  False  0.007664   \n",
       "\n",
       "   motion     smoke       temp  \n",
       "0   False  0.020411  22.700000  \n",
       "1   False  0.013275  19.700001  \n",
       "2   False  0.020475  22.600000  \n",
       "3   False  0.018628  27.000000  \n",
       "4   False  0.020448  22.600000  "
      ]
     },
     "execution_count": 12,
     "metadata": {},
     "output_type": "execute_result"
    }
   ],
   "source": [
    "iot_telemetry = pd.read_csv(\"data/iot_telemetry_data.csv\")\n",
    "iot_telemetry = iot_telemetry.dropna()\n",
    "iot_telemetry.head()"
   ]
  },
  {
   "cell_type": "code",
   "execution_count": 21,
   "id": "180c95e4",
   "metadata": {},
   "outputs": [
    {
     "name": "stdout",
     "output_type": "stream",
     "text": [
      "17\n"
     ]
    }
   ],
   "source": [
    "print(len(\"1c:bf:ce:15:ec:4d\"))"
   ]
  },
  {
   "cell_type": "markdown",
   "id": "dede0419",
   "metadata": {},
   "source": [
    "# Initializing OracleDB"
   ]
  },
  {
   "cell_type": "code",
   "execution_count": 16,
   "id": "9a1345f8",
   "metadata": {},
   "outputs": [
    {
     "name": "stdout",
     "output_type": "stream",
     "text": [
      "Verbindung erfolgreich!\n"
     ]
    }
   ],
   "source": [
    "try:\n",
    "    connection = oracledb.connect(\n",
    "            user=\"SYSTEM\",\n",
    "            password=os.getenv(\"ORACLE_PASSWORD\"), \n",
    "            dsn=\"localhost/FREEPDB1\"\n",
    "        )\n",
    "    print(\"Verbindung erfolgreich!\")\n",
    "except oracledb.DatabaseError as e:\n",
    "    print(f\"Verbindung fehlgeschlagen! {e}\")"
   ]
  },
  {
   "cell_type": "code",
   "execution_count": 48,
   "id": "be88ec34",
   "metadata": {},
   "outputs": [],
   "source": [
    "# Create table query\n",
    "create_table_query = \"\"\"\n",
    "CREATE TABLE IOT_TELEMETRY_DATA (\n",
    "    IOT_TELEMETRY_ID  NUMBER GENERATED BY DEFAULT ON NULL AS IDENTITY NOT NULL,\n",
    "    TS                TIMESTAMP        NOT NULL,\n",
    "    DEVICE            VARCHAR2(17)  NOT NULL,\n",
    "    CO                NUMBER,\n",
    "    HUMIDITY          NUMBER,\n",
    "    LIGHT             VARCHAR(5),\n",
    "    LPG               NUMBER,\n",
    "    MOTION            VARCHAR(5),\n",
    "    SMOKE             NUMBER,\n",
    "    TEMP              NUMBER\n",
    ") \n",
    "\"\"\""
   ]
  },
  {
   "cell_type": "code",
   "execution_count": 49,
   "id": "3c98c19a",
   "metadata": {},
   "outputs": [
    {
     "name": "stdout",
     "output_type": "stream",
     "text": [
      "Tabelle erfolgreich erstellt!\n"
     ]
    }
   ],
   "source": [
    "try:\n",
    "    cursor = connection.cursor()\n",
    "    cursor.execute(create_table_query)\n",
    "    print(\"Tabelle erfolgreich erstellt!\")\n",
    "except oracledb.DatabaseError as e:\n",
    "    print(f\"Tabelle konnte nicht erstellt werden! {e}\")"
   ]
  },
  {
   "cell_type": "markdown",
   "id": "049a955e",
   "metadata": {},
   "source": [
    "# Insert  to Database"
   ]
  },
  {
   "cell_type": "code",
   "execution_count": 50,
   "id": "9b0a625c",
   "metadata": {},
   "outputs": [],
   "source": [
    "# Insert data into the table from df iot_telemetry\n",
    "# Convert the 'TS' column to a timestamp format\n",
    "iot_telemetry['ts'] = pd.to_datetime(iot_telemetry['ts'], unit='s')\n",
    "iot_telemetry['light'] = iot_telemetry['light'].astype(str)\n",
    "iot_telemetry['motion'] = iot_telemetry['motion'].astype(str)\n",
    "\n",
    "# Convert the DataFrame to a list of tuples\n",
    "data_tuples = [tuple(x) for x in iot_telemetry.to_numpy()]\n",
    "# Insert the data into the table\n",
    "insert_query = \"\"\"\n",
    "INSERT INTO IOT_TELEMETRY_DATA (TS, DEVICE, CO, HUMIDITY, LIGHT, LPG, MOTION, SMOKE, TEMP)\n",
    "VALUES (:1, :2, :3, :4, :5, :6, :7, :8, :9)\n",
    "\"\"\""
   ]
  },
  {
   "cell_type": "code",
   "execution_count": 51,
   "id": "df31ee45",
   "metadata": {},
   "outputs": [
    {
     "name": "stdout",
     "output_type": "stream",
     "text": [
      "(Timestamp('2020-07-12 00:01:34.385974646'), 'b8:27:eb:bf:9d:51', 0.0049559386483912, 51.0, 'False', 0.0076508222705571, 'False', 0.0204112701224129, 22.7)\n",
      "(Timestamp('2020-07-12 00:01:34.735567570'), '00:0f:00:70:91:0a', 0.0028400886071015, 76.0, 'False', 0.005114383400977, 'False', 0.0132748367048515, 19.700000762939453)\n",
      "(Timestamp('2020-07-12 00:01:38.073572874'), 'b8:27:eb:bf:9d:51', 0.0049760123404216, 50.9, 'False', 0.007673227406398, 'False', 0.0204751255761782, 22.6)\n",
      "(Timestamp('2020-07-12 00:01:39.589145899'), '1c:bf:ce:15:ec:4d', 0.0044030268296996, 76.80000305175781, 'True', 0.0070233371458773, 'False', 0.0186282253770188, 27.0)\n",
      "(Timestamp('2020-07-12 00:01:41.761234999'), 'b8:27:eb:bf:9d:51', 0.0049673636419089, 50.9, 'False', 0.0076635772823724, 'False', 0.0204476208102336, 22.6)\n"
     ]
    }
   ],
   "source": [
    "# Print the first 5 rows of the data tuple\n",
    "for i in range(5):\n",
    "    print(data_tuples[i])"
   ]
  },
  {
   "cell_type": "code",
   "execution_count": 52,
   "id": "08af93c8",
   "metadata": {},
   "outputs": [
    {
     "name": "stdout",
     "output_type": "stream",
     "text": [
      "Data inserted successfully!\n"
     ]
    }
   ],
   "source": [
    "try:\n",
    "    cursor.executemany(insert_query, data_tuples)\n",
    "    connection.commit()\n",
    "    print(\"Data inserted successfully!\")\n",
    "except oracledb.DatabaseError as e:\n",
    "    print(\"Error inserting data:\", e)"
   ]
  },
  {
   "cell_type": "code",
   "execution_count": 57,
   "id": "c2594672",
   "metadata": {},
   "outputs": [
    {
     "name": "stdout",
     "output_type": "stream",
     "text": [
      "(2, datetime.datetime(2020, 7, 12, 0, 1, 34), '00:0f:00:70:91:0a', 0.0028400886071015, 76, 'False', 0.005114383400977, 'False', 0.0132748367048515, 19.700000762939453)\n",
      "(3, datetime.datetime(2020, 7, 12, 0, 1, 38), 'b8:27:eb:bf:9d:51', 0.0049760123404216, 50.9, 'False', 0.007673227406398, 'False', 0.0204751255761782, 22.6)\n",
      "(4, datetime.datetime(2020, 7, 12, 0, 1, 39), '1c:bf:ce:15:ec:4d', 0.0044030268296996, 76.80000305175781, 'True', 0.0070233371458773, 'False', 0.0186282253770188, 27)\n",
      "(5, datetime.datetime(2020, 7, 12, 0, 1, 41), 'b8:27:eb:bf:9d:51', 0.0049673636419089, 50.9, 'False', 0.0076635772823724, 'False', 0.0204476208102336, 22.6)\n",
      "Data read successfully in 4.17 seconds!\n",
      "405184\n"
     ]
    }
   ],
   "source": [
    "# Reading all data from the table\n",
    "read_query = \"SELECT * FROM IOT_TELEMETRY_DATA\"\n",
    "try:\n",
    "    start = time.time()\n",
    "    cursor.execute(read_query)\n",
    "    rows = cursor.fetchall()\n",
    "    end = time.time()\n",
    "    for i in range(1, 5):\n",
    "        print(rows[i])\n",
    "    print(f\"Data read successfully in {end - start:.2f} seconds!\")\n",
    "    print(len(rows))\n",
    "except oracledb.DatabaseError as e:\n",
    "    print(\"Error reading data:\", e)"
   ]
  }
 ],
 "metadata": {
  "kernelspec": {
   "display_name": ".venv",
   "language": "python",
   "name": "python3"
  },
  "language_info": {
   "codemirror_mode": {
    "name": "ipython",
    "version": 3
   },
   "file_extension": ".py",
   "mimetype": "text/x-python",
   "name": "python",
   "nbconvert_exporter": "python",
   "pygments_lexer": "ipython3",
   "version": "3.12.6"
  }
 },
 "nbformat": 4,
 "nbformat_minor": 5
}
