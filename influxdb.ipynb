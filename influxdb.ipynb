{
 "cells": [
  {
   "cell_type": "code",
   "execution_count": 27,
   "id": "2bea6dcf",
   "metadata": {},
   "outputs": [],
   "source": [
    "import influxdb_client, os, time\n",
    "from influxdb_client import InfluxDBClient, Point, WritePrecision\n",
    "from influxdb_client.client.write_api import SYNCHRONOUS\n",
    "import pandas as pd"
   ]
  },
  {
   "cell_type": "markdown",
   "id": "180336c0",
   "metadata": {},
   "source": [
    "# Prequisites"
   ]
  },
  {
   "cell_type": "code",
   "execution_count": 28,
   "id": "3bf9259c",
   "metadata": {},
   "outputs": [],
   "source": [
    "token = os.environ.get(\"INFLUXDB_TOKEN\")\n",
    "org = \"th-koeln\"\n",
    "url = \"http://localhost:8086\"\n",
    "bucket = \"iot_telemetry_data\""
   ]
  },
  {
   "cell_type": "markdown",
   "id": "02d1a011",
   "metadata": {},
   "source": [
    "# Transforming CSV for InfluxDB"
   ]
  },
  {
   "cell_type": "code",
   "execution_count": null,
   "id": "a0967ce2",
   "metadata": {},
   "outputs": [
    {
     "data": {
      "text/html": [
       "<div>\n",
       "<style scoped>\n",
       "    .dataframe tbody tr th:only-of-type {\n",
       "        vertical-align: middle;\n",
       "    }\n",
       "\n",
       "    .dataframe tbody tr th {\n",
       "        vertical-align: top;\n",
       "    }\n",
       "\n",
       "    .dataframe thead th {\n",
       "        text-align: right;\n",
       "    }\n",
       "</style>\n",
       "<table border=\"1\" class=\"dataframe\">\n",
       "  <thead>\n",
       "    <tr style=\"text-align: right;\">\n",
       "      <th></th>\n",
       "      <th>ts</th>\n",
       "      <th>device</th>\n",
       "      <th>co</th>\n",
       "      <th>humidity</th>\n",
       "      <th>light</th>\n",
       "      <th>lpg</th>\n",
       "      <th>motion</th>\n",
       "      <th>smoke</th>\n",
       "      <th>temp</th>\n",
       "    </tr>\n",
       "  </thead>\n",
       "  <tbody>\n",
       "    <tr>\n",
       "      <th>19995</th>\n",
       "      <td>2020-07-12 09:30:20.689517975</td>\n",
       "      <td>00:0f:00:70:91:0a</td>\n",
       "      <td>0.002840</td>\n",
       "      <td>75.400002</td>\n",
       "      <td>False</td>\n",
       "      <td>0.005114</td>\n",
       "      <td>False</td>\n",
       "      <td>0.013275</td>\n",
       "      <td>19.5</td>\n",
       "    </tr>\n",
       "    <tr>\n",
       "      <th>19996</th>\n",
       "      <td>2020-07-12 09:30:21.783257246</td>\n",
       "      <td>b8:27:eb:bf:9d:51</td>\n",
       "      <td>0.004894</td>\n",
       "      <td>51.900000</td>\n",
       "      <td>False</td>\n",
       "      <td>0.007582</td>\n",
       "      <td>False</td>\n",
       "      <td>0.020214</td>\n",
       "      <td>21.5</td>\n",
       "    </tr>\n",
       "    <tr>\n",
       "      <th>19997</th>\n",
       "      <td>2020-07-12 09:30:25.044335127</td>\n",
       "      <td>1c:bf:ce:15:ec:4d</td>\n",
       "      <td>0.003866</td>\n",
       "      <td>74.699997</td>\n",
       "      <td>True</td>\n",
       "      <td>0.006392</td>\n",
       "      <td>False</td>\n",
       "      <td>0.016846</td>\n",
       "      <td>24.4</td>\n",
       "    </tr>\n",
       "    <tr>\n",
       "      <th>19998</th>\n",
       "      <td>2020-07-12 09:30:25.470076561</td>\n",
       "      <td>b8:27:eb:bf:9d:51</td>\n",
       "      <td>0.004888</td>\n",
       "      <td>51.900000</td>\n",
       "      <td>False</td>\n",
       "      <td>0.007575</td>\n",
       "      <td>False</td>\n",
       "      <td>0.020196</td>\n",
       "      <td>21.5</td>\n",
       "    </tr>\n",
       "    <tr>\n",
       "      <th>19999</th>\n",
       "      <td>2020-07-12 09:30:25.587088346</td>\n",
       "      <td>00:0f:00:70:91:0a</td>\n",
       "      <td>0.002840</td>\n",
       "      <td>75.400002</td>\n",
       "      <td>False</td>\n",
       "      <td>0.005114</td>\n",
       "      <td>False</td>\n",
       "      <td>0.013275</td>\n",
       "      <td>19.5</td>\n",
       "    </tr>\n",
       "  </tbody>\n",
       "</table>\n",
       "</div>"
      ],
      "text/plain": [
       "                                 ts             device        co   humidity  \\\n",
       "19995 2020-07-12 09:30:20.689517975  00:0f:00:70:91:0a  0.002840  75.400002   \n",
       "19996 2020-07-12 09:30:21.783257246  b8:27:eb:bf:9d:51  0.004894  51.900000   \n",
       "19997 2020-07-12 09:30:25.044335127  1c:bf:ce:15:ec:4d  0.003866  74.699997   \n",
       "19998 2020-07-12 09:30:25.470076561  b8:27:eb:bf:9d:51  0.004888  51.900000   \n",
       "19999 2020-07-12 09:30:25.587088346  00:0f:00:70:91:0a  0.002840  75.400002   \n",
       "\n",
       "       light       lpg  motion     smoke  temp  \n",
       "19995  False  0.005114   False  0.013275  19.5  \n",
       "19996  False  0.007582   False  0.020214  21.5  \n",
       "19997   True  0.006392   False  0.016846  24.4  \n",
       "19998  False  0.007575   False  0.020196  21.5  \n",
       "19999  False  0.005114   False  0.013275  19.5  "
      ]
     },
     "execution_count": 51,
     "metadata": {},
     "output_type": "execute_result"
    }
   ],
   "source": [
    "iot_tele_df = pd.read_csv(\"data/iot_telemetry_data.csv\")\n",
    "iot_tele_df = iot_tele_df.dropna()\n",
    "\n",
    "# Convert the 'ts' column to datetime format\n",
    "iot_tele_df['ts'] = pd.to_datetime(iot_tele_df['ts'], unit='s')\n",
    "\n",
    "# Cut down to 20000 rows for testing\n",
    "iot_tele_df = iot_tele_df.iloc[:20000]\n",
    "iot_tele_df.tail()"
   ]
  },
  {
   "cell_type": "code",
   "execution_count": 52,
   "id": "44390a30",
   "metadata": {},
   "outputs": [
    {
     "name": "stdout",
     "output_type": "stream",
     "text": [
      "Date range:  2020-07-12 00:01:34.385974646  -  2020-07-12 09:30:25.587088346\n"
     ]
    }
   ],
   "source": [
    "# Print date range\n",
    "print(\"Date range: \", iot_tele_df['ts'].min(), \" - \", iot_tele_df['ts'].max())"
   ]
  },
  {
   "cell_type": "code",
   "execution_count": null,
   "id": "268124fe",
   "metadata": {},
   "outputs": [],
   "source": [
    "points = []\n",
    "\n",
    "measurement_name = \"iot_telemetry\"\n",
    "\n",
    "for index, row in iot_tele_df.iterrows():\n",
    "    point = (\n",
    "        Point(measurement_name)\n",
    "        .tag(\"device\", row[\"device\"])\n",
    "        .field(\"carbon_monoxide\", float(row[\"co\"]))\n",
    "        .field(\"humidity\", float(row[\"humidity\"]))\n",
    "        .field(\"light\", bool(row[\"light\"]))\n",
    "        .field(\"liquid_petroleum_gas\", float(row[\"lpg\"]))\n",
    "        .field(\"motion\", bool(row[\"motion\"]))\n",
    "        .field(\"smoke\", float(row[\"smoke\"]))\n",
    "        .field(\"temp\", float(row[\"temp\"]))\n",
    "        .time(pd.to_datetime(row[\"ts\"]), WritePrecision.NS) # pd.to_datetime already converted in cell ab2e96cd\n",
    "    )\n",
    "    points.append(point)"
   ]
  },
  {
   "cell_type": "code",
   "execution_count": 54,
   "id": "9f64e100",
   "metadata": {},
   "outputs": [
    {
     "name": "stdout",
     "output_type": "stream",
     "text": [
      "iot_telemetry,device=b8:27:eb:bf:9d:51 carbon_monoxide=0.0049559386483912,humidity=51,light=false,liquid_petroleum_gas=0.0076508222705571,motion=false,smoke=0.0204112701224129,temp=22.7 1594512094385974000\n",
      "iot_telemetry,device=00:0f:00:70:91:0a carbon_monoxide=0.0028400886071015,humidity=76,light=false,liquid_petroleum_gas=0.005114383400977,motion=false,smoke=0.0132748367048515,temp=19.700000762939453 1594512094735567000\n",
      "iot_telemetry,device=b8:27:eb:bf:9d:51 carbon_monoxide=0.0049760123404216,humidity=50.9,light=false,liquid_petroleum_gas=0.007673227406398,motion=false,smoke=0.0204751255761782,temp=22.6 1594512098073572000\n"
     ]
    }
   ],
   "source": [
    "for i in range(min(3, len(points))): \n",
    "    print(points[i])"
   ]
  },
  {
   "cell_type": "code",
   "execution_count": null,
   "id": "84b2186d",
   "metadata": {},
   "outputs": [
    {
     "name": "stdout",
     "output_type": "stream",
     "text": [
      "Data written to InfluxDB successfully!\n"
     ]
    }
   ],
   "source": [
    "# Write data to InfluxDB with exception handling\n",
    "try:\n",
    "    write_client = influxdb_client.InfluxDBClient(url=url, token=token, org=org)\n",
    "    write_api = write_client.write_api(write_options=SYNCHRONOUS)\n",
    "    write_api.write(bucket=bucket, org=org, record=points)\n",
    "    print(\"Data written to InfluxDB successfully!\")\n",
    "except Exception as e:\n",
    "    print(f\"Failed to write data to InfluxDB: {e}\")\n",
    "finally:\n",
    "    if 'write_client' in locals() and write_client:\n",
    "        write_client.close()"
   ]
  },
  {
   "cell_type": "markdown",
   "id": "a417eb43",
   "metadata": {},
   "source": [
    "# Reading the bucket"
   ]
  },
  {
   "cell_type": "code",
   "execution_count": null,
   "id": "c152ed8d",
   "metadata": {},
   "outputs": [
    {
     "name": "stdout",
     "output_type": "stream",
     "text": [
      "Failed to read data from InfluxDB: (400)\n",
      "Reason: Bad Request\n",
      "HTTP response headers: HTTPHeaderDict({'Content-Type': 'application/json; charset=utf-8', 'Vary': 'Accept-Encoding', 'X-Influxdb-Build': 'OSS', 'X-Influxdb-Version': 'v2.7.11', 'X-Platform-Error-Code': 'invalid', 'Date': 'Wed, 07 May 2025 08:45:35 GMT', 'Transfer-Encoding': 'chunked'})\n",
      "HTTP response body: b'{\"code\":\"invalid\",\"message\":\"compilation failed: error @1:45-1:83: invalid expression @1:83-1:84: \\'\\\\n\\\\nerror @1:53-1:83: invalid expression @1:52-1:53: \\'\\\\n\\\\nerror @1:86-1:123: invalid expression @1:123-1:124: \\'\\\\n\\\\nerror @1:93-1:123: invalid expression @1:92-1:93: \\'\"}'\n",
      "\n",
      "InfluxDB read client closed.\n"
     ]
    }
   ],
   "source": [
    "# Read data from InfluxDB to verify and display as DataFrame\n",
    "read_client = None  # Initialize to ensure it's defined for finally block\n",
    "try:\n",
    "    read_client = influxdb_client.InfluxDBClient(url=url, token=token, org=org)\n",
    "    query_api = read_client.query_api()\n",
    "\n",
    "    # Modified query to pivot data for a structured DataFrame and read all data\n",
    "    query = f'''from(bucket: \"{bucket}\")\n",
    "      |> range(start: 0)\n",
    "      |> filter(fn: (r) => r._measurement == \"{measurement_name}\")\n",
    "      |> pivot(rowKey:[\"_time\", \"device\"], columnKey: [\"_field\"], valueColumn: \"_value\")'''\n",
    "\n",
    "    print('Querying data from InfluxDB and loading into DataFrame...')\n",
    "    df_result = query_api.query_data_frame(query=query, org=org)\n",
    "\n",
    "    final_df_to_print = None\n",
    "\n",
    "    if isinstance(df_result, list):\n",
    "        if not df_result:\n",
    "            print('No data returned from query (empty list).')\n",
    "        else:\n",
    "            # Concatenate if df_result is a list of DataFrames\n",
    "            concatenated_df = pd.concat(df_result, ignore_index=True)\n",
    "            if not concatenated_df.empty:\n",
    "                final_df_to_print = concatenated_df\n",
    "            else:\n",
    "                print('No data returned from query (empty concatenated DataFrame).')\n",
    "    elif isinstance(df_result, pd.DataFrame):\n",
    "        if not df_result.empty:\n",
    "            final_df_to_print = df_result\n",
    "        else:\n",
    "            print('No data returned from query (empty DataFrame).')\n",
    "    else:\n",
    "        print('No data returned from query (data is None or unexpected type).')\n",
    "\n",
    "    if final_df_to_print is not None:\n",
    "        print(\"Query Result as DataFrame:\")\n",
    "        cols_to_drop = ['result', 'table']\n",
    "        final_df_to_print = final_df_to_print.drop(columns=[col for col in cols_to_drop if col in final_df_to_print.columns], errors='ignore')\n",
    "        print(final_df_to_print.head())\n",
    "\n",
    "except Exception as e:\n",
    "    print(f\"Failed to read data from InfluxDB: {e}\")\n",
    "finally:\n",
    "    if read_client:\n",
    "        read_client.close()\n",
    "        print('InfluxDB read client closed.')"
   ]
  },
  {
   "cell_type": "code",
   "execution_count": null,
   "id": "f46822b1",
   "metadata": {},
   "outputs": [],
   "source": []
  }
 ],
 "metadata": {
  "kernelspec": {
   "display_name": ".venv",
   "language": "python",
   "name": "python3"
  },
  "language_info": {
   "codemirror_mode": {
    "name": "ipython",
    "version": 3
   },
   "file_extension": ".py",
   "mimetype": "text/x-python",
   "name": "python",
   "nbconvert_exporter": "python",
   "pygments_lexer": "ipython3",
   "version": "3.12.6"
  }
 },
 "nbformat": 4,
 "nbformat_minor": 5
}
