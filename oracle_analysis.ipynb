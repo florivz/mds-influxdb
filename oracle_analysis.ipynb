{
 "cells": [
  {
   "cell_type": "code",
   "execution_count": 61,
   "id": "7573910b",
   "metadata": {},
   "outputs": [],
   "source": [
    "import oracledb, os, time"
   ]
  },
  {
   "cell_type": "code",
   "execution_count": 62,
   "id": "af4ba3b0",
   "metadata": {},
   "outputs": [],
   "source": [
    "# running oracle-free image\n",
    "\n",
    "def create_connection():\n",
    "    try:\n",
    "        connection = oracledb.connect(\n",
    "            user=\"SYSTEM\",\n",
    "            password=os.getenv(\"ORACLE_PASSWORD\"),\n",
    "            dsn=\"localhost:1523/FREE\"          \n",
    "        )\n",
    "        print(\"Verbindung zur PDB erfolgreich!\")\n",
    "    except oracledb.DatabaseError as e:\n",
    "        print(f\"Verbindung fehlgeschlagen: {e}\")\n",
    "    return connection"
   ]
  },
  {
   "cell_type": "markdown",
   "id": "df1dd10b",
   "metadata": {},
   "source": [
    "# Queries"
   ]
  },
  {
   "cell_type": "code",
   "execution_count": 63,
   "id": "b01a1a4c",
   "metadata": {},
   "outputs": [],
   "source": [
    "#-- 1) Durchschnittliche Luftfeuchtigkeit (humidity) pro Gerät\n",
    "average_humidity_per_device_query = \"\"\"SELECT\n",
    "  DEVICE,\n",
    "  AVG(HUMIDITY) AS avg_humidity\n",
    "FROM IOT_TELEMETRY_DATA\n",
    "GROUP BY DEVICE\n",
    "ORDER BY DEVICE\n",
    "\"\"\""
   ]
  },
  {
   "cell_type": "code",
   "execution_count": 64,
   "id": "a83d67f3",
   "metadata": {},
   "outputs": [],
   "source": [
    "# -- 2) Höchste gemessene Temperatur über alle Geräte\n",
    "highest_temp_query = \"\"\"SELECT\n",
    "  MAX(temp) AS max_temperature\n",
    "FROM IOT_TELEMETRY_DATA\n",
    "\"\"\""
   ]
  },
  {
   "cell_type": "code",
   "execution_count": 65,
   "id": "cc93870c",
   "metadata": {},
   "outputs": [],
   "source": [
    "# -- 3) “Worst air quality” per Gerät als Summe der drei Schadstoffe\n",
    "worst_air_quality_per_device_query = \"\"\"SELECT\n",
    "  device,\n",
    "  SUM(co + lpg + smoke) AS air_quality_score\n",
    "FROM IOT_TELEMETRY_DATA\n",
    "GROUP BY device\n",
    "ORDER BY air_quality_score DESC\n",
    "\"\"\""
   ]
  },
  {
   "cell_type": "code",
   "execution_count": 66,
   "id": "fd9e4006",
   "metadata": {},
   "outputs": [],
   "source": [
    "# Query: Tages-AVG pro Gerät + Abweichung in %\n",
    "diff_query = \"\"\"\n",
    "SELECT\n",
    "  ts,\n",
    "  device,\n",
    "  temp,\n",
    "  AVG(temp) OVER (PARTITION BY device) AS avg_temp_device,\n",
    "  ROUND(\n",
    "    ABS(\n",
    "      temp \n",
    "      - AVG(temp) OVER (PARTITION BY device)\n",
    "    )\n",
    "    / AVG(temp) OVER (PARTITION BY device)\n",
    "    * 100\n",
    "  , 2) AS per_diff_pct\n",
    "FROM iot_telemetry_data\n",
    "ORDER BY device, ts\n",
    "\"\"\""
   ]
  },
  {
   "cell_type": "code",
   "execution_count": 67,
   "id": "aca32be1",
   "metadata": {},
   "outputs": [],
   "source": [
    "hourly_temp_hum_query = \"\"\"\n",
    "SELECT\n",
    "    TRUNC(TS, 'HH') AS HOUR_WINDOW, -- Zeitstempel-Spalte 'TS' auf Stunde runden\n",
    "    DEVICE, -- Geräte-Spalte 'DEVICE'\n",
    "    AVG(TEMP) AS MEAN_TEMP, -- Durchschnitt der Temperatur-Spalte 'TEMP'\n",
    "    MAX(HUMIDITY) AS MAX_HUMIDITY -- Maximum der Luftfeuchtigkeit-Spalte 'HUMIDITY'\n",
    "FROM\n",
    "    IOT_TELEMETRY_DATA -- Dein Tabellenname\n",
    "WHERE\n",
    "    TS >= TO_TIMESTAMP('2002-04-07 00:00:00', 'YYYY-MM-DD HH24:MI:SS') -- Startzeit (anpassen!)\n",
    "    AND TS < CURRENT_TIMESTAMP -- Endzeit (jetzt)\n",
    "    AND DEVICE IN ('00:0f:00:70:91:0a', '1c:bf:ce:15:ec:4d', 'eb:b8:27:bf:9d:51') -- Geräte-IDs\n",
    "GROUP BY\n",
    "    TRUNC(TS, 'HH'),\n",
    "    DEVICE\n",
    "ORDER BY\n",
    "    HOUR_WINDOW,\n",
    "    DEVICE\n",
    "\"\"\""
   ]
  },
  {
   "cell_type": "code",
   "execution_count": 68,
   "id": "f09d2f05",
   "metadata": {},
   "outputs": [],
   "source": [
    "temperature_rate_of_change_per_minute_by_device = \"\"\"\n",
    "WITH DeviceRankedData AS (\n",
    "    SELECT\n",
    "        TS,\n",
    "        DEVICE,\n",
    "        TEMP,\n",
    "        LAG(TS, 1) OVER (PARTITION BY DEVICE ORDER BY TS) AS PREV_TS,\n",
    "        LAG(TEMP, 1) OVER (PARTITION BY DEVICE ORDER BY TS) AS PREV_TEMP\n",
    "    FROM\n",
    "        IOT_TELEMETRY_DATA -- Dein Tabellenname\n",
    "    WHERE\n",
    "        TS >= TO_TIMESTAMP('2020-07-12 00:00:00', 'YYYY-MM-DD HH24:MI:SS') -- Startzeit deines Bereichs\n",
    "        AND TS <= TO_TIMESTAMP('2020-07-19 23:59:59', 'YYYY-MM-DD HH24:MI:SS') -- Endzeit deines Bereichs\n",
    ")\n",
    "SELECT\n",
    "    TS,\n",
    "    DEVICE,\n",
    "    TEMP,\n",
    "    CASE\n",
    "        WHEN PREV_TS IS NULL OR TS = PREV_TS THEN NULL -- Keine Berechnung möglich, wenn kein vorheriger Punkt oder Zeitstempel identisch\n",
    "        ELSE\n",
    "            (TEMP - PREV_TEMP) / -- Temperaturdifferenz\n",
    "            ( -- Zeitdifferenz als Interval, dann in Minuten umrechnen\n",
    "              EXTRACT(DAY    FROM (TS - PREV_TS)) * 24 * 60 +\n",
    "              EXTRACT(HOUR   FROM (TS - PREV_TS)) * 60 +\n",
    "              EXTRACT(MINUTE FROM (TS - PREV_TS)) +\n",
    "              EXTRACT(SECOND FROM (TS - PREV_TS)) / 60\n",
    "            )\n",
    "    END AS TEMP_RATE_OF_CHANGE_PER_MINUTE\n",
    "FROM\n",
    "    DeviceRankedData\n",
    "WHERE\n",
    "    PREV_TS IS NOT NULL -- Schliesst den ersten Punkt pro Gerät aus\n",
    "ORDER BY\n",
    "    DEVICE, TS\n",
    "\"\"\""
   ]
  },
  {
   "cell_type": "code",
   "execution_count": 69,
   "id": "cd5fc0f8",
   "metadata": {},
   "outputs": [],
   "source": [
    "time_stamps_query = \"\"\"\n",
    "SELECT TS FROM IOT_TELEMETRY_DATA\n",
    "\"\"\""
   ]
  },
  {
   "cell_type": "code",
   "execution_count": 70,
   "id": "5cc33b17",
   "metadata": {},
   "outputs": [],
   "source": [
    "avg_temp_humidity_ratio_query = \"\"\"\n",
    "SELECT\n",
    "    AVG(TEMP / NULLIF(HUMIDITY, 0)) AS avg_temp_humidity_ratio\n",
    "FROM\n",
    "    IOT_TELEMETRY_DATA\n",
    "WHERE\n",
    "    TS >= TO_TIMESTAMP('2020-07-14 00:01:00', 'YYYY-MM-DD HH24:MI:SS')\n",
    "    AND TS <= TO_TIMESTAMP('2020-07-19 03:01:00', 'YYYY-MM-DD HH24:MI:SS')\n",
    "\"\"\""
   ]
  },
  {
   "cell_type": "code",
   "execution_count": 71,
   "id": "d57ba6ce",
   "metadata": {},
   "outputs": [],
   "source": [
    "average_humidity_per_device_query_complex = \"\"\"\n",
    "SELECT device, avg_humidity FROM (\n",
    "    SELECT\n",
    "        device,\n",
    "        AVG(humidity) OVER (PARTITION BY device) AS avg_humidity,\n",
    "        ROW_NUMBER() OVER (PARTITION BY device ORDER BY device) AS rn\n",
    "    FROM iot_telemetry_data\n",
    ")\n",
    "WHERE rn = 1\n",
    "ORDER BY device\n",
    "\"\"\""
   ]
  },
  {
   "cell_type": "code",
   "execution_count": 72,
   "id": "5ca62385",
   "metadata": {},
   "outputs": [],
   "source": [
    "highest_temp_query_complex = \"\"\"\n",
    "SELECT max_temp FROM (\n",
    "    SELECT temp, MAX(temp) OVER () AS max_temp\n",
    "    FROM iot_telemetry_data\n",
    ") WHERE ROWNUM = 1\n",
    "\"\"\""
   ]
  },
  {
   "cell_type": "code",
   "execution_count": 73,
   "id": "01323101",
   "metadata": {},
   "outputs": [
    {
     "name": "stdout",
     "output_type": "stream",
     "text": [
      "Verbindung zur PDB erfolgreich!\n",
      "0   2020-07-12 00:01:34\n",
      "dtype: datetime64[ns]\n",
      "0   2020-07-20 00:03:37\n",
      "dtype: datetime64[ns]\n"
     ]
    }
   ],
   "source": [
    "import pandas as pd\n",
    "try:\n",
    "    connection = create_connection()\n",
    "    cursor = connection.cursor()\n",
    "    cursor.execute(time_stamps_query)\n",
    "    time_stamps = pd.DataFrame(cursor.fetchall())\n",
    "    print(time_stamps.min())\n",
    "    print(time_stamps.max())\n",
    "    cursor.close()\n",
    "    connection.close()\n",
    "except oracledb.DatabaseError as e:\n",
    "    print(\"Error reading data:\", e)"
   ]
  },
  {
   "cell_type": "markdown",
   "id": "81f3b82e",
   "metadata": {},
   "source": [
    "# Performance Analysis"
   ]
  },
  {
   "cell_type": "code",
   "execution_count": 74,
   "id": "adbd92e9",
   "metadata": {},
   "outputs": [],
   "source": [
    "query_times = {}"
   ]
  },
  {
   "cell_type": "code",
   "execution_count": 75,
   "id": "dab1bcf5",
   "metadata": {},
   "outputs": [
    {
     "name": "stdout",
     "output_type": "stream",
     "text": [
      "Verbindung zur PDB erfolgreich!\n",
      "Successfull fetched in 0.07648849487304688 seconds.\n",
      "[('00:0f:00:70:91:0a', 75.44436079832734), ('1c:bf:ce:15:ec:4d', 61.91024663855242), ('b8:27:eb:bf:9d:51', 50.814076745389464)]\n"
     ]
    }
   ],
   "source": [
    "try:\n",
    "    connection = create_connection()\n",
    "    cursor = connection.cursor()\n",
    "    start_time = time.time()\n",
    "    cursor.execute(average_humidity_per_device_query)\n",
    "    avg_humidity = cursor.fetchall()\n",
    "    end_time = time.time()\n",
    "    print(f\"Successfull fetched in {end_time - start_time} seconds.\")\n",
    "    print(avg_humidity)\n",
    "    query_times['Average Humidity'] = (end_time - start_time)\n",
    "    cursor.close()\n",
    "    connection.close()\n",
    "except oracledb.DatabaseError as e:\n",
    "    print(\"Error reading data:\", e)"
   ]
  },
  {
   "cell_type": "code",
   "execution_count": 76,
   "id": "03b9e83f",
   "metadata": {},
   "outputs": [
    {
     "name": "stdout",
     "output_type": "stream",
     "text": [
      "Verbindung zur PDB erfolgreich!\n",
      "Successfull fetched in 0.029315471649169922 seconds.\n",
      "[(30.600000381469727,)]\n"
     ]
    }
   ],
   "source": [
    "try:\n",
    "    connection = create_connection()\n",
    "    cursor = connection.cursor()\n",
    "    start_time = time.time()\n",
    "    cursor.execute(highest_temp_query)\n",
    "    highest_temp = cursor.fetchall()\n",
    "    end_time = time.time()\n",
    "    print(f\"Successfull fetched in {end_time - start_time} seconds.\")\n",
    "    print(highest_temp)\n",
    "    query_times['Highest Temp'] = (end_time - start_time)\n",
    "    cursor.close()\n",
    "    connection.close()\n",
    "except oracledb.DatabaseError as e:\n",
    "    print(\"Error: \", e)\n"
   ]
  },
  {
   "cell_type": "code",
   "execution_count": 77,
   "id": "e2f651a1",
   "metadata": {},
   "outputs": [
    {
     "name": "stdout",
     "output_type": "stream",
     "text": [
      "Verbindung zur PDB erfolgreich!\n",
      "Successfull fetched in 0.07038450241088867 seconds.\n",
      "[('b8:27:eb:bf:9d:51', 6777.162111500038), ('1c:bf:ce:15:ec:4d', 3054.864279412305), ('00:0f:00:70:91:0a', 2785.2340317640083)]\n"
     ]
    }
   ],
   "source": [
    "try:\n",
    "    connection = create_connection()\n",
    "    cursor = connection.cursor()\n",
    "    start_time = time.time()\n",
    "    cursor.execute(worst_air_quality_per_device_query)\n",
    "    worst_air = cursor.fetchall()\n",
    "    end_time = time.time()\n",
    "    print(f\"Successfull fetched in {end_time - start_time} seconds.\")\n",
    "    print(worst_air)\n",
    "    query_times['Worst Air'] = (end_time - start_time)\n",
    "    cursor.close()\n",
    "    connection.close()\n",
    "except oracledb.DatabaseError as e:\n",
    "    print(\"Error: \", e)"
   ]
  },
  {
   "cell_type": "code",
   "execution_count": 78,
   "id": "00fa29bc",
   "metadata": {},
   "outputs": [
    {
     "name": "stdout",
     "output_type": "stream",
     "text": [
      "Verbindung zur PDB erfolgreich!\n",
      "Successfull fetched in 0.09484338760375977 seconds.\n",
      "[(0.39024171766859717,)]\n"
     ]
    }
   ],
   "source": [
    "\n",
    "try:\n",
    "    connection = create_connection()\n",
    "    cursor = connection.cursor()\n",
    "    start_time = time.time()\n",
    "    cursor.execute(avg_temp_humidity_ratio_query)\n",
    "    worst_air = cursor.fetchall()\n",
    "    end_time = time.time()\n",
    "    print(f\"Successfull fetched in {end_time - start_time} seconds.\")\n",
    "    print(worst_air)\n",
    "    query_times['Avg Temp Humidity Ratio'] = (end_time - start_time)\n",
    "    cursor.close()\n",
    "    connection.close()\n",
    "except oracledb.DatabaseError as e:\n",
    "    print(\"Error: \", e)"
   ]
  },
  {
   "cell_type": "markdown",
   "id": "e50b2fee",
   "metadata": {},
   "source": [
    "# Summary"
   ]
  },
  {
   "cell_type": "code",
   "execution_count": 79,
   "id": "31c68cbd",
   "metadata": {},
   "outputs": [
    {
     "name": "stdout",
     "output_type": "stream",
     "text": [
      "OracleDB query times: {'Average Humidity': 0.07648849487304688, 'Highest Temp': 0.029315471649169922, 'Worst Air': 0.07038450241088867, 'Avg Temp Humidity Ratio': 0.09484338760375977}\n"
     ]
    }
   ],
   "source": [
    "performance = \"OracleDB query times: \" + str(query_times)\n",
    "print(performance)"
   ]
  },
  {
   "cell_type": "code",
   "execution_count": 80,
   "id": "9183622d",
   "metadata": {},
   "outputs": [
    {
     "name": "stdout",
     "output_type": "stream",
     "text": [
      "OracleDB query times: {'Average Humidity': 0.07648849487304688, 'Highest Temp': 0.029315471649169922, 'Worst Air': 0.07038450241088867, 'Avg Temp Humidity Ratio': 0.09484338760375977}\n"
     ]
    }
   ],
   "source": [
    "filename = \"performance.txt\"\n",
    "\n",
    "with open(filename, \"a\", encoding=\"utf-8\") as f:\n",
    "    f.write(performance + \"\\n\")\n",
    "\n",
    "print(performance)\n"
   ]
  },
  {
   "cell_type": "code",
   "execution_count": null,
   "id": "ad030401",
   "metadata": {},
   "outputs": [],
   "source": []
  }
 ],
 "metadata": {
  "kernelspec": {
   "display_name": ".venv",
   "language": "python",
   "name": "python3"
  },
  "language_info": {
   "codemirror_mode": {
    "name": "ipython",
    "version": 3
   },
   "file_extension": ".py",
   "mimetype": "text/x-python",
   "name": "python",
   "nbconvert_exporter": "python",
   "pygments_lexer": "ipython3",
   "version": "3.12.6"
  }
 },
 "nbformat": 4,
 "nbformat_minor": 5
}
